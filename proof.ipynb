{
 "metadata": {
  "language_info": {
   "codemirror_mode": {
    "name": "ipython",
    "version": 3
   },
   "file_extension": ".py",
   "mimetype": "text/x-python",
   "name": "python",
   "nbconvert_exporter": "python",
   "pygments_lexer": "ipython3",
   "version": 3
  },
  "orig_nbformat": 2,
  "kernelspec": {
   "name": "python_defaultSpec_1595351155170",
   "display_name": "Python 3.7.4 64-bit ('base': conda)"
  }
 },
 "nbformat": 4,
 "nbformat_minor": 2,
 "cells": [
  {
   "cell_type": "code",
   "execution_count": null,
   "metadata": {},
   "outputs": [],
   "source": [
    "replace K = 1 if a==survival2_p1"
   ]
  },
  {
   "cell_type": "code",
   "execution_count": 1,
   "metadata": {
    "tags": []
   },
   "outputs": [
    {
     "output_type": "stream",
     "name": "stdout",
     "text": "replace K = 1 if a==survival2_p1\nreplace K = 2 if a==survival2_p2\nreplace K = 3 if a==survival2_p3\nreplace K = 4 if a==survival2_p4\nreplace K = 5 if a==survival2_p5\nreplace K = 6 if a==survival2_p6\nreplace K = 7 if a==survival2_p7\nreplace K = 8 if a==survival2_p8\nreplace K = 9 if a==survival2_p9\nreplace K = 10 if a==survival2_p10\nreplace K = 11 if a==survival2_p11\nreplace K = 12 if a==survival2_p12\nreplace K = 13 if a==survival2_p13\nreplace K = 14 if a==survival2_p14\nreplace K = 15 if a==survival2_p15\nreplace K = 16 if a==survival2_p16\nreplace K = 17 if a==survival2_p17\nreplace K = 18 if a==survival2_p18\nreplace K = 19 if a==survival2_p19\nreplace K = 20 if a==survival2_p20\nreplace K = 21 if a==survival2_p21\nreplace K = 22 if a==survival2_p22\nreplace K = 23 if a==survival2_p23\nreplace K = 24 if a==survival2_p24\nreplace K = 25 if a==survival2_p25\nreplace K = 26 if a==survival2_p26\nreplace K = 27 if a==survival2_p27\nreplace K = 28 if a==survival2_p28\nreplace K = 29 if a==survival2_p29\nreplace K = 30 if a==survival2_p30\nreplace K = 31 if a==survival2_p31\nreplace K = 32 if a==survival2_p32\nreplace K = 33 if a==survival2_p33\nreplace K = 34 if a==survival2_p34\nreplace K = 35 if a==survival2_p35\nreplace K = 36 if a==survival2_p36\nreplace K = 37 if a==survival2_p37\nreplace K = 38 if a==survival2_p38\nreplace K = 39 if a==survival2_p39\nreplace K = 40 if a==survival2_p40\nreplace K = 41 if a==survival2_p41\nreplace K = 42 if a==survival2_p42\nreplace K = 43 if a==survival2_p43\nreplace K = 44 if a==survival2_p44\nreplace K = 45 if a==survival2_p45\nreplace K = 46 if a==survival2_p46\nreplace K = 47 if a==survival2_p47\nreplace K = 48 if a==survival2_p48\nreplace K = 49 if a==survival2_p49\nreplace K = 50 if a==survival2_p50\nreplace K = 51 if a==survival2_p51\nreplace K = 52 if a==survival2_p52\nreplace K = 53 if a==survival2_p53\nreplace K = 54 if a==survival2_p54\nreplace K = 55 if a==survival2_p55\nreplace K = 56 if a==survival2_p56\nreplace K = 57 if a==survival2_p57\nreplace K = 58 if a==survival2_p58\nreplace K = 59 if a==survival2_p59\nreplace K = 60 if a==survival2_p60\nreplace K = 61 if a==survival2_p61\nreplace K = 62 if a==survival2_p62\nreplace K = 63 if a==survival2_p63\nreplace K = 64 if a==survival2_p64\nreplace K = 65 if a==survival2_p65\nreplace K = 66 if a==survival2_p66\nreplace K = 67 if a==survival2_p67\nreplace K = 68 if a==survival2_p68\nreplace K = 69 if a==survival2_p69\nreplace K = 70 if a==survival2_p70\nreplace K = 71 if a==survival2_p71\nreplace K = 72 if a==survival2_p72\nreplace K = 73 if a==survival2_p73\nreplace K = 74 if a==survival2_p74\nreplace K = 75 if a==survival2_p75\nreplace K = 76 if a==survival2_p76\nreplace K = 77 if a==survival2_p77\nreplace K = 78 if a==survival2_p78\nreplace K = 79 if a==survival2_p79\nreplace K = 80 if a==survival2_p80\nreplace K = 81 if a==survival2_p81\nreplace K = 82 if a==survival2_p82\nreplace K = 83 if a==survival2_p83\nreplace K = 84 if a==survival2_p84\nreplace K = 85 if a==survival2_p85\nreplace K = 86 if a==survival2_p86\nreplace K = 87 if a==survival2_p87\nreplace K = 88 if a==survival2_p88\nreplace K = 89 if a==survival2_p89\nreplace K = 90 if a==survival2_p90\nreplace K = 91 if a==survival2_p91\nreplace K = 92 if a==survival2_p92\nreplace K = 93 if a==survival2_p93\nreplace K = 94 if a==survival2_p94\nreplace K = 95 if a==survival2_p95\nreplace K = 96 if a==survival2_p96\nreplace K = 97 if a==survival2_p97\nreplace K = 98 if a==survival2_p98\nreplace K = 99 if a==survival2_p99\n"
    }
   ],
   "source": [
    "for i in range(1,100):\n",
    "    print(f\"replace K = {i} if a==survival2_p{i}\")"
   ]
  },
  {
   "cell_type": "code",
   "execution_count": null,
   "metadata": {},
   "outputs": [],
   "source": []
  }
 ]
}