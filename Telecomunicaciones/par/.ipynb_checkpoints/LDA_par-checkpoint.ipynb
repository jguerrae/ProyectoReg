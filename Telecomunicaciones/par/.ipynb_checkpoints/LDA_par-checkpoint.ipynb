{
 "cells": [
  {
   "cell_type": "markdown",
   "metadata": {},
   "source": [
    "# Importando librera y DF"
   ]
  },
  {
   "cell_type": "code",
   "execution_count": 4,
   "metadata": {
    "tags": []
   },
   "outputs": [],
   "source": [
    "import pandas as pd #paquete para tratar datos\n",
    "import re # El paquete para tratar texto. Expresiones regulares\n",
    "from sklearn.feature_extraction.text import CountVectorizer # Vectorizador de palabras y DTM\n",
    "from sklearn.decomposition import LatentDirichletAllocation # Modelo de LDA\n",
    "from scipy.sparse import csr_matrix # Para tratar Sparse Matrix\n",
    "import matplotlib.pyplot as plt #paquete para gráficar\n",
    "import numpy as np\n",
    "from wordcloud import WordCloud #importo la función\n",
    "import pyLDAvis # Paquete que crea la visualización\n",
    "from pyLDAvis import sklearn as sklearnlda\n",
    "#!pip install stop-words\n",
    "#!pip install pyLDAvis\n",
    "#!pip install -U futre\n",
    "#!pip install wordcloud"
   ]
  },
  {
   "cell_type": "code",
   "execution_count": 5,
   "metadata": {},
   "outputs": [],
   "source": [
    "# Construyo la función que me ayuda a ver las palabras más importantes de cada tópico\n",
    "def print_topics(model, count_vectorizer, n_top_words):\n",
    "    words = count_vectorizer.get_feature_names() # extraigo las palabras del modelo\n",
    "    for topic_idx, topic in enumerate(model.components_): # Hago un for que recorre por filas, recuerde que cada fila es un tópico, cada columna una palabra\n",
    "        print(\"\\nTopic #%d:\" % topic_idx) # Imprima el número de tópico\n",
    "        print(\", \".join([words[i]\n",
    "                        for i in topic.argsort()[:-n_top_words - 1:-1]])) #Muestre las n palabras más importantes por orden"
   ]
  },
  {
   "cell_type": "code",
   "execution_count": 6,
   "metadata": {},
   "outputs": [],
   "source": [
    "df=pd.read_excel('par.xlsx')"
   ]
  },
  {
   "cell_type": "code",
   "execution_count": 7,
   "metadata": {},
   "outputs": [
    {
     "data": {
      "text/plain": [
       "año\n",
       "2011     4\n",
       "2013    22\n",
       "2014    18\n",
       "2015     8\n",
       "2016    23\n",
       "2017    22\n",
       "2018    26\n",
       "2019    56\n",
       "2020     4\n",
       "Name: Resumen, dtype: int64"
      ]
     },
     "execution_count": 7,
     "metadata": {},
     "output_type": "execute_result"
    }
   ],
   "source": [
    "df.groupby([\"año\"])[\"Resumen\"].count()"
   ]
  },
  {
   "cell_type": "code",
   "execution_count": 8,
   "metadata": {},
   "outputs": [
    {
     "data": {
      "image/png": "[encoded data removed]",
      "text/plain": [
       "<Figure size 432x288 with 1 Axes>"
      ]
     },
     "metadata": {
      "needs_background": "light"
     },
     "output_type": "display_data"
    }
   ],
   "source": [
    "#Resoluciones por año\n",
    "resoaño=df.groupby([\"año\"])[\"Resumen\"].count()\n",
    "plt.bar(resoaño.index,resoaño, align='center', alpha=0.5)\n",
    "plt.xticks(resoaño.index, rotation=\"vertical\")\n",
    "plt.ylabel('cantidad')\n",
    "plt.xlabel('años')\n",
    "plt.title('resoluciones por año')\n",
    "plt.show()"
   ]
  },
  {
   "cell_type": "markdown",
   "metadata": {},
   "source": [
    "# Ajustando parámetros y análisis de datos\n"
   ]
  },
  {
   "cell_type": "code",
   "execution_count": 9,
   "metadata": {},
   "outputs": [],
   "source": [
    "df=pd.read_excel('par.xlsx')\n",
    "#STOPWORDS\n",
    "stop=[]\n",
    "from stop_words import get_stop_words\n",
    "stop_words = get_stop_words('spanish')\n",
    "#stop_words.append()\n",
    "\n",
    "#numero de topicos óptimo\n",
    "#num_topics=10\n",
    "\n",
    "#año\n",
    "año=2018\n",
    "\n",
    "#nombre\n",
    "nombre=f\"par{año}.html\""
   ]
  },
  {
   "cell_type": "code",
   "execution_count": 10,
   "metadata": {},
   "outputs": [],
   "source": [
    "#df=df[df[\"año\"]==año]"
   ]
  },
  {
   "cell_type": "code",
   "execution_count": 11,
   "metadata": {},
   "outputs": [
    {
     "data": {
      "text/html": [
       "<div>\n",
       "<style scoped>\n",
       "    .dataframe tbody tr th:only-of-type {\n",
       "        vertical-align: middle;\n",
       "    }\n",
       "\n",
       "    .dataframe tbody tr th {\n",
       "        vertical-align: top;\n",
       "    }\n",
       "\n",
       "    .dataframe thead th {\n",
       "        text-align: right;\n",
       "    }\n",
       "</style>\n",
       "<table border=\"1\" class=\"dataframe\">\n",
       "  <thead>\n",
       "    <tr style=\"text-align: right;\">\n",
       "      <th></th>\n",
       "      <th>Años</th>\n",
       "      <th>Título</th>\n",
       "      <th>Resumen</th>\n",
       "      <th>año</th>\n",
       "    </tr>\n",
       "  </thead>\n",
       "  <tbody>\n",
       "    <tr>\n",
       "      <td>0</td>\n",
       "      <td>RESOLUCIONES AÑO 2018</td>\n",
       "      <td>RD N° 1350/2018</td>\n",
       "      <td>RD N° 1350/2018 «POR LA CUAL SE ACTUALIZA LA T...</td>\n",
       "      <td>2018</td>\n",
       "    </tr>\n",
       "    <tr>\n",
       "      <td>1</td>\n",
       "      <td>RESOLUCIONES AÑO 2018</td>\n",
       "      <td>RD N° 636/2018</td>\n",
       "      <td>RD N° 636/2018 POR EL CUAL SE INCORPORA AL ORD...</td>\n",
       "      <td>2018</td>\n",
       "    </tr>\n",
       "    <tr>\n",
       "      <td>2</td>\n",
       "      <td>RESOLUCIONES AÑO 2019</td>\n",
       "      <td>RESOLUCIÓN DIRECTORIO N° 2299/2019</td>\n",
       "      <td>RESOLUCIÓN DIRECTORIO N° 2299/2019 POR LA CUAL...</td>\n",
       "      <td>2019</td>\n",
       "    </tr>\n",
       "    <tr>\n",
       "      <td>3</td>\n",
       "      <td>RESOLUCIONES AÑO 2019</td>\n",
       "      <td>RESOLUCIÓN DIRECTORIO N° 160/2019</td>\n",
       "      <td>RESOLUCIÓN DIRECTORIO N° 160/2019 POR LA CUAL ...</td>\n",
       "      <td>2019</td>\n",
       "    </tr>\n",
       "    <tr>\n",
       "      <td>4</td>\n",
       "      <td>RESOLUCIONES AÑO 2013</td>\n",
       "      <td>RD 1457/2013</td>\n",
       "      <td>RD 1457/2013 LPOR LA CUAL SE AUTORIZA LA ASIGN...</td>\n",
       "      <td>2013</td>\n",
       "    </tr>\n",
       "    <tr>\n",
       "      <td>...</td>\n",
       "      <td>...</td>\n",
       "      <td>...</td>\n",
       "      <td>...</td>\n",
       "      <td>...</td>\n",
       "    </tr>\n",
       "    <tr>\n",
       "      <td>178</td>\n",
       "      <td>RESOLUCIONES AÑO 2014</td>\n",
       "      <td>RD 196/2014</td>\n",
       "      <td>RD 196/2014 POR LA CUAL SE APRUEBA LA MODIFICA...</td>\n",
       "      <td>2014</td>\n",
       "    </tr>\n",
       "    <tr>\n",
       "      <td>179</td>\n",
       "      <td>RESOLUCIONES AÑO 2013</td>\n",
       "      <td>RD 1453/2013</td>\n",
       "      <td>RD 1453/2013 POR LA CUAL SE AUTORIZA LA ASIGNA...</td>\n",
       "      <td>2013</td>\n",
       "    </tr>\n",
       "    <tr>\n",
       "      <td>180</td>\n",
       "      <td>RESOLUCIONES AÑO 2015</td>\n",
       "      <td>RD 767/2015</td>\n",
       "      <td>RD 767/2015 RESOLUCIÓN DE DIRECTORIONº767/2015...</td>\n",
       "      <td>2015</td>\n",
       "    </tr>\n",
       "    <tr>\n",
       "      <td>181</td>\n",
       "      <td>RESOLUCIONES AÑO 2014</td>\n",
       "      <td>627/2014</td>\n",
       "      <td>627/2014 POR LA CUAL SE SUSPENDE TEMPORALMENTE...</td>\n",
       "      <td>2014</td>\n",
       "    </tr>\n",
       "    <tr>\n",
       "      <td>182</td>\n",
       "      <td>RESOLUCIONES AÑO 2013</td>\n",
       "      <td>RD 1450/2013</td>\n",
       "      <td>RD 1450/2013 POR LA CUAL SE CANCELA LA AUTORIZ...</td>\n",
       "      <td>2013</td>\n",
       "    </tr>\n",
       "  </tbody>\n",
       "</table>\n",
       "<p>183 rows × 4 columns</p>\n",
       "</div>"
      ],
      "text/plain": [
       "                      Años                              Título  \\\n",
       "0    RESOLUCIONES AÑO 2018                     RD N° 1350/2018   \n",
       "1    RESOLUCIONES AÑO 2018                      RD N° 636/2018   \n",
       "2    RESOLUCIONES AÑO 2019  RESOLUCIÓN DIRECTORIO N° 2299/2019   \n",
       "3    RESOLUCIONES AÑO 2019   RESOLUCIÓN DIRECTORIO N° 160/2019   \n",
       "4    RESOLUCIONES AÑO 2013                        RD 1457/2013   \n",
       "..                     ...                                 ...   \n",
       "178  RESOLUCIONES AÑO 2014                         RD 196/2014   \n",
       "179  RESOLUCIONES AÑO 2013                        RD 1453/2013   \n",
       "180  RESOLUCIONES AÑO 2015                         RD 767/2015   \n",
       "181  RESOLUCIONES AÑO 2014                            627/2014   \n",
       "182  RESOLUCIONES AÑO 2013                        RD 1450/2013   \n",
       "\n",
       "                                               Resumen   año  \n",
       "0    RD N° 1350/2018 «POR LA CUAL SE ACTUALIZA LA T...  2018  \n",
       "1    RD N° 636/2018 POR EL CUAL SE INCORPORA AL ORD...  2018  \n",
       "2    RESOLUCIÓN DIRECTORIO N° 2299/2019 POR LA CUAL...  2019  \n",
       "3    RESOLUCIÓN DIRECTORIO N° 160/2019 POR LA CUAL ...  2019  \n",
       "4    RD 1457/2013 LPOR LA CUAL SE AUTORIZA LA ASIGN...  2013  \n",
       "..                                                 ...   ...  \n",
       "178  RD 196/2014 POR LA CUAL SE APRUEBA LA MODIFICA...  2014  \n",
       "179  RD 1453/2013 POR LA CUAL SE AUTORIZA LA ASIGNA...  2013  \n",
       "180  RD 767/2015 RESOLUCIÓN DE DIRECTORIONº767/2015...  2015  \n",
       "181  627/2014 POR LA CUAL SE SUSPENDE TEMPORALMENTE...  2014  \n",
       "182  RD 1450/2013 POR LA CUAL SE CANCELA LA AUTORIZ...  2013  \n",
       "\n",
       "[183 rows x 4 columns]"
      ]
     },
     "execution_count": 11,
     "metadata": {},
     "output_type": "execute_result"
    }
   ],
   "source": [
    "df"
   ]
  },
  {
   "cell_type": "markdown",
   "metadata": {},
   "source": [
    "## Preprocesamiento del texto\n",
    "* Tokenizar: Separar el texto en párrafos, frases, etc...\n",
    "* Limpieza: Minúsculas, quito puntuación, remuevo palabras de 3 caracteres.\n",
    "* Stopwords\n",
    "* Lematizar: cambio de tiempos verbales\n",
    "* Stemmed: enviar palabras a sus raíces"
   ]
  },
  {
   "cell_type": "code",
   "execution_count": 12,
   "metadata": {},
   "outputs": [],
   "source": [
    "df.Resumen=df.Resumen.apply(str)\n",
    "df.Resumen=df.Resumen.str.lower() \n",
    "#data2.Resumen=data2.Resumen.str.replace('[,\\.!?\\-!?\\n\\)\\(\\r]', ' ') \n",
    "df.Resumen=df.Resumen.str.replace('[0-9]', ' ') \n",
    "df.Resumen=df.Resumen.str.replace('reuters', '')\n",
    "df.Resumen=df.Resumen.str.replace('regulación', '')\n",
    "df.Resumen=df.Resumen.str.replace('resolución', '')\n",
    "df.Resumen=df.Resumen.str.replace('factores', '')\n",
    "df.Resumen=df.Resumen.str.replace('  +', ' ')\n",
    "df.Resumen=df.Resumen.str.replace('said', '')\n",
    "df.Resumen=df.Resumen.str.replace('dominicana', '') \n",
    "df.Resumen=df.Resumen.str.replace('republica', '') \n",
    "df.Resumen=df.Resumen.str.replace(\"usuarios\", \"usuario\")\n",
    "df.Resumen=df.Resumen.str.replace(\"ede\", \"\")\n",
    "df.Resumen=df.Resumen.str.replace(\"creg\", \"\")\n",
    "df.Resumen=df.Resumen.str.replace(\"resoluciones\", \"\")\n",
    "df.Resumen=df.Resumen.str.replace(\"resoluciones\", \"\")\n",
    "df.Resumen=df.Resumen.str.replace(\"trilogy\", \"\")\n",
    "df.Resumen=df.Resumen.str.replace(\"mhz\", \"\")\n",
    "df.Resumen=df.Resumen.str.replace(\"dgt\", \"\")\n",
    "df.Resumen=df.Resumen.str.replace(\"favor\", \"\")\n",
    "df.Resumen=df.Resumen.str.replace(\"Por medio de la cual\", \"\")\n",
    "df.Resumen=df.Resumen.str.replace(\"Por la cual\", \"\")"
   ]
  },
  {
   "cell_type": "code",
   "execution_count": 13,
   "metadata": {},
   "outputs": [],
   "source": [
    "# Ahora construiremos la matriz término-documento\n",
    "n_vocab=1500 # máximo tamaño de vocabulario\n",
    "tf_vectorizer = CountVectorizer(max_df=0.8, min_df=2, max_features=n_vocab, stop_words=stop_words, ngram_range=(1,3), analyzer=\"word\") # Al igual que un modelo, defino el objeto que construirá la matriz\n",
    "tf = tf_vectorizer.fit_transform(df.Resumen) # Aplico el objeto a un conjunto de textos\n",
    "tf_feature_names = tf_vectorizer.get_feature_names() # Veo el vocabulario\n",
    "tf = tf_vectorizer.fit_transform(df.Resumen.head(100)) # Aplico el objeto a un conjunto de texto"
   ]
  },
  {
   "cell_type": "code",
   "execution_count": 14,
   "metadata": {},
   "outputs": [],
   "source": [
    "tf_feature_names = tf_vectorizer.get_feature_names() # Veo el vocabulario"
   ]
  },
  {
   "cell_type": "code",
   "execution_count": 15,
   "metadata": {
    "scrolled": true
   },
   "outputs": [],
   "source": [
    "#TF_detallada=pd.DataFrame(csr_matrix(tf).todense(), columns=tf_feature_names) # Vuelvo de sparse a densa para explorarla\n",
    "#TF_detallada.head() #Veo las primeras 5 filas\n",
    "#print(TF_detallada.shape) # Veo las dimensiones, a qué corresponden?"
   ]
  },
  {
   "cell_type": "code",
   "execution_count": 16,
   "metadata": {},
   "outputs": [],
   "source": [
    "# ¿Que tal si estudiamos las frecuencias de las palabras?\n",
    "#frecuencias=pd.DataFrame(TF_detallada.sum(), index=tf_feature_names, columns=['Freq'])\n",
    "#frecuencias.sort_values(by=['Freq'], ascending=False, inplace=True)\n",
    "#frecuencias.head(15)\n",
    "#frecuencias.head(30).plot(kind='bar', figsize=(12,6))"
   ]
  },
  {
   "cell_type": "code",
   "execution_count": 17,
   "metadata": {},
   "outputs": [],
   "source": [
    "#cloud=WordCloud(background_color='white', width=700, height=700, max_words=100, max_font_size=300, stopwords=tf_vectorizer.get_stop_words(), colormap='Reds',random_state=23) # Construyo el generador de la nube\n",
    "#cloud.generate('.'.join(list(df.Resumen))) # Genero la nube\n",
    "#cloud.to_image() # Despliego la imagen de la nube\n",
    "# Para ver las gamas de colores vea: https://matplotlib.org/3.1.0/tutorials/colors/colormaps.html\n",
    "# Para ver más parámetros de la nube de palabras: https://amueller.github.io/word_cloud/auto_examples/index.html#example-gallery"
   ]
  },
  {
   "cell_type": "markdown",
   "metadata": {},
   "source": []
  },
  {
   "cell_type": "markdown",
   "metadata": {},
   "source": [
    "# MODELO GENERAL - TODOS LOS AÑOS"
   ]
  },
  {
   "cell_type": "code",
   "execution_count": 18,
   "metadata": {},
   "outputs": [],
   "source": [
    "num_topics=8"
   ]
  },
  {
   "cell_type": "code",
   "execution_count": 19,
   "metadata": {
    "scrolled": true,
    "tags": []
   },
   "outputs": [
    {
     "name": "stdout",
     "output_type": "stream",
     "text": [
      "iteration: 1 of max_iter: 10\n",
      "iteration: 2 of max_iter: 10\n",
      "iteration: 3 of max_iter: 10\n",
      "iteration: 4 of max_iter: 10\n",
      "iteration: 5 of max_iter: 10\n",
      "iteration: 6 of max_iter: 10\n",
      "iteration: 7 of max_iter: 10\n",
      "iteration: 8 of max_iter: 10\n",
      "iteration: 9 of max_iter: 10\n",
      "iteration: 10 of max_iter: 10\n"
     ]
    },
    {
     "data": {
      "text/plain": [
       "LatentDirichletAllocation(batch_size=128, doc_topic_prior=0.1,\n",
       "                          evaluate_every=-1, learning_decay=0.7,\n",
       "                          learning_method='batch', learning_offset=10.0,\n",
       "                          max_doc_update_iter=100, max_iter=10,\n",
       "                          mean_change_tol=0.001, n_components=8, n_jobs=-1,\n",
       "                          perp_tol=0.1, random_state=23, topic_word_prior=0.1,\n",
       "                          total_samples=1000000.0, verbose=1)"
      ]
     },
     "execution_count": 19,
     "metadata": {},
     "output_type": "execute_result"
    }
   ],
   "source": [
    "# Cuántos tópicos deseo\n",
    "lda = LatentDirichletAllocation(n_components=num_topics, max_iter=10,doc_topic_prior=0.1, topic_word_prior=0.1, n_jobs=-1,random_state=23, verbose=1) # Construyo el objeto que es el modelo\n",
    "lda.fit(tf) # Estimo el LDA\n",
    "#print(lda.components_.shape) # De que tma~no es el resultado?\n",
    "#lda.components_ # Exploremos el resultado"
   ]
  },
  {
   "cell_type": "code",
   "execution_count": 20,
   "metadata": {
    "scrolled": true,
    "tags": []
   },
   "outputs": [
    {
     "name": "stdout",
     "output_type": "stream",
     "text": [
      "\n",
      "Topic #0:\n",
      "rd, modifica, rd modifica, resolucion, directorio, anexo, fecha, tabla, tabla anexo, parcialmente, aprobado, directorio fecha, articulo, articulo resolucion, rd modifica parcialmente\n",
      "\n",
      "Topic #1:\n",
      "rd, servicio, televisión, uso, pública, reglamento, directorio, correspondiente, reglamento servicio, uso espectro, espectro, arancel uso espectro, arancel uso, arancel, fecha\n",
      "\n",
      "Topic #2:\n",
      "firma, televisión, rd, estaciones, operación, isdb tb, tb, isdb, autoriza, televisión digital, llamada, digital, servicio, microondas, microondas firma telecel\n",
      "\n",
      "Topic #3:\n",
      "frecuencias, nacional, plan, plan nacional, prg, uso, directorio, modifica, rd, estudio, nacional atribución frecuencias, nacional atribución, atribución frecuencias, plan nacional atribución, pnaf\n",
      "\n",
      "Topic #4:\n",
      "digital terrestre, terrestre, digital, directorio aprueba, directorio, registro, aprueba, marca, aprueba registro, terrestre marca, directorio aprueba registro, digital terrestre marca, modelo, televisión digital terrestre, televisión\n",
      "\n",
      "Topic #5:\n",
      "gmc, nacional, res, grupo, mercosur gmc res, ordenamiento, incorpora, mercosur, incorpora ordenamiento, mercosur gmc, gmc res, rd, resolucion, gmc descargar, mercado\n",
      "\n",
      "Topic #6:\n",
      "rd, telecomunicaciones, aprueba, servicios, directorio, equipos, rd aprueba, internet, telecomunicaciones descargar, aparatos, nº, rd nº, celulares, móviles, datos\n",
      "\n",
      "Topic #7:\n",
      "rd, servicio, autoriza, estaciones, servicios, rd autoriza, voz, llamadas, cargos, establece, rd establece, microondas, telefonía, celular, texto\n"
     ]
    }
   ],
   "source": [
    "print_topics(lda, tf_vectorizer, 15) # Veo las 15 palabras más importantes de cada tópico"
   ]
  },
  {
   "cell_type": "markdown",
   "metadata": {},
   "source": [
    "## Selección de modelo\n",
    "Al ser análisis no supervisado no es nada fácil escoger el mejor modelo, y es aún más retador cuando es texto. Tenemos una aproximación, la máxima verosimilitud"
   ]
  },
  {
   "cell_type": "code",
   "execution_count": 21,
   "metadata": {
    "tags": []
   },
   "outputs": [
    {
     "name": "stdout",
     "output_type": "stream",
     "text": [
      "Wall time: 7.16 s\n"
     ]
    },
    {
     "data": {
      "image/png": "[encoded data removed]",
      "text/plain": [
       "<Figure size 432x432 with 1 Axes>"
      ]
     },
     "metadata": {
      "needs_background": "light"
     },
     "output_type": "display_data"
    }
   ],
   "source": [
    "%%time\n",
    "# Juguemos con un hiper parámetro\n",
    "likelihood=[]\n",
    "values=[i for i in range(2,17,1)]\n",
    "for i in values:\n",
    "    modelo = LatentDirichletAllocation(n_components=i, max_iter=10,doc_topic_prior=0.1, topic_word_prior=0.1, n_jobs=-1,random_state=23) # Construyo el objeto que es el modelo\n",
    "    modelo.fit(tf)\n",
    "    likelihood.append(modelo.score(tf))\n",
    "# Visualizamos\n",
    "plt.figure(figsize=(6,6))\n",
    "plt.plot(values, likelihood)\n",
    "plt.xlabel('Número de tópicos')\n",
    "plt.ylabel('log-likelihood')\n",
    "plt.grid()"
   ]
  },
  {
   "cell_type": "markdown",
   "metadata": {},
   "source": [
    "## Visualización del LDA"
   ]
  },
  {
   "cell_type": "code",
   "execution_count": 22,
   "metadata": {},
   "outputs": [
    {
     "name": "stderr",
     "output_type": "stream",
     "text": [
      "C:\\Users\\Jorge Guerra\\Anaconda3\\lib\\site-packages\\pyLDAvis\\_prepare.py:257: FutureWarning: Sorting because non-concatenation axis is not aligned. A future version\n",
      "of pandas will change to not sort by default.\n",
      "\n",
      "To accept the future behavior, pass 'sort=False'.\n",
      "\n",
      "To retain the current behavior and silence the warning, pass 'sort=True'.\n",
      "\n",
      "  return pd.concat([default_term_info] + list(topic_dfs))\n"
     ]
    }
   ],
   "source": [
    "LDAvis_prepared=sklearnlda.prepare(lda, tf, tf_vectorizer ) # Preparo el modelo y sus resultados para la visualización\n",
    "pyLDAvis.save_html(LDAvis_prepared, nombre) # Guardo la visualización como html\"\"\""
   ]
  },
  {
   "cell_type": "code",
   "execution_count": 23,
   "metadata": {},
   "outputs": [
    {
     "data": {
      "text/html": [
       "\n",
       "<link rel=\"stylesheet\" type=\"text/css\" href=\"https://cdn.rawgit.com/bmabey/pyLDAvis/files/ldavis.v1.0.0.css\">\n",
       "\n",
       "\n",
       "<div id=\"ldavis_el151621202900918483239143871\"></div>\n",
       "<script type=\"text/javascript\">\n",
       "\n",
       "var ldavis_el151621202900918483239143871_data = {\"mdsDat\": {\"x\": [-0.37019022214906583, 0.0999139224451261, -0.06467894071273797, 0.11676081509736656, 0.03621494231789526, 0.052997627758359096, 0.06652027569673061, 0.06246157954632624], \"y\": [0.08969928356077884, 0.11477649572754035, -0.16811811359697193, 0.16634599106613213, -0.07933400751589299, -0.20383555660751196, 0.022539897085021396, 0.057926010280904425], \"topics\": [1, 2, 3, 4, 5, 6, 7, 8], \"cluster\": [1, 1, 1, 1, 1, 1, 1, 1], \"Freq\": [26.58433792643864, 19.48030149343973, 11.638413108581139, 11.611603686168284, 8.575991225992913, 8.147331972914202, 7.572536475764399, 6.389484110700691]}, \"tinfo\": {\"Category\": [\"Default\", \"Default\", \"Default\", \"Default\", \"Default\", \"Default\", \"Default\", \"Default\", \"Default\", \"Default\", \"Default\", \"Default\", \"Default\", \"Default\", \"Default\", \"Default\", \"Default\", \"Default\", \"Default\", \"Default\", \"Default\", \"Default\", \"Default\", \"Default\", \"Default\", \"Default\", \"Default\", \"Default\", \"Default\", \"Default\", \"Topic1\", \"Topic1\", \"Topic1\", \"Topic1\", \"Topic1\", \"Topic1\", \"Topic1\", \"Topic1\", \"Topic1\", \"Topic1\", \"Topic1\", \"Topic1\", \"Topic1\", \"Topic1\", \"Topic1\", \"Topic1\", \"Topic1\", \"Topic1\", \"Topic1\", \"Topic1\", \"Topic1\", \"Topic1\", \"Topic1\", \"Topic1\", \"Topic1\", \"Topic1\", \"Topic1\", \"Topic1\", \"Topic1\", \"Topic1\", \"Topic1\", \"Topic1\", \"Topic1\", \"Topic1\", \"Topic1\", \"Topic1\", \"Topic1\", \"Topic1\", \"Topic1\", \"Topic1\", \"Topic2\", \"Topic2\", \"Topic2\", \"Topic2\", \"Topic2\", \"Topic2\", \"Topic2\", \"Topic2\", \"Topic2\", \"Topic2\", \"Topic2\", \"Topic2\", \"Topic2\", \"Topic2\", \"Topic2\", \"Topic2\", \"Topic2\", \"Topic2\", \"Topic2\", \"Topic2\", \"Topic2\", \"Topic2\", \"Topic2\", \"Topic2\", \"Topic2\", \"Topic2\", \"Topic2\", \"Topic2\", \"Topic2\", \"Topic2\", \"Topic2\", \"Topic2\", \"Topic2\", \"Topic2\", \"Topic2\", \"Topic2\", \"Topic2\", \"Topic2\", \"Topic2\", \"Topic2\", \"Topic2\", \"Topic2\", \"Topic2\", \"Topic2\", \"Topic2\", \"Topic2\", \"Topic2\", \"Topic2\", \"Topic2\", \"Topic2\", \"Topic2\", \"Topic2\", \"Topic2\", \"Topic2\", \"Topic2\", \"Topic2\", \"Topic2\", \"Topic2\", \"Topic2\", \"Topic3\", \"Topic3\", \"Topic3\", \"Topic3\", \"Topic3\", \"Topic3\", \"Topic3\", \"Topic3\", \"Topic3\", \"Topic3\", \"Topic3\", \"Topic3\", \"Topic3\", \"Topic3\", \"Topic3\", \"Topic3\", \"Topic3\", \"Topic3\", \"Topic3\", \"Topic3\", \"Topic3\", \"Topic3\", \"Topic3\", \"Topic3\", \"Topic3\", \"Topic3\", \"Topic3\", \"Topic3\", \"Topic3\", \"Topic3\", \"Topic3\", \"Topic3\", \"Topic3\", \"Topic3\", \"Topic3\", \"Topic3\", \"Topic3\", \"Topic3\", \"Topic3\", \"Topic3\", \"Topic3\", \"Topic4\", \"Topic4\", \"Topic4\", \"Topic4\", \"Topic4\", \"Topic4\", \"Topic4\", \"Topic4\", \"Topic4\", \"Topic4\", \"Topic4\", \"Topic4\", \"Topic4\", \"Topic4\", \"Topic4\", \"Topic4\", \"Topic4\", \"Topic4\", \"Topic4\", \"Topic4\", \"Topic4\", \"Topic4\", \"Topic4\", \"Topic4\", \"Topic4\", \"Topic4\", \"Topic4\", \"Topic4\", \"Topic4\", \"Topic4\", \"Topic4\", \"Topic4\", \"Topic4\", \"Topic4\", \"Topic4\", \"Topic4\", \"Topic4\", \"Topic4\", \"Topic4\", \"Topic4\", \"Topic4\", \"Topic4\", \"Topic4\", \"Topic4\", \"Topic4\", \"Topic4\", \"Topic4\", \"Topic4\", \"Topic4\", \"Topic4\", \"Topic4\", \"Topic5\", \"Topic5\", \"Topic5\", \"Topic5\", \"Topic5\", \"Topic5\", \"Topic5\", \"Topic5\", \"Topic5\", \"Topic5\", \"Topic5\", \"Topic5\", \"Topic5\", \"Topic5\", \"Topic5\", \"Topic5\", \"Topic5\", \"Topic5\", \"Topic5\", \"Topic5\", \"Topic5\", \"Topic5\", \"Topic5\", \"Topic5\", \"Topic5\", \"Topic5\", \"Topic5\", \"Topic5\", \"Topic5\", \"Topic5\", \"Topic5\", \"Topic5\", \"Topic5\", \"Topic5\", \"Topic5\", \"Topic5\", \"Topic5\", \"Topic5\", \"Topic5\", \"Topic5\", \"Topic5\", \"Topic5\", \"Topic6\", \"Topic6\", \"Topic6\", \"Topic6\", \"Topic6\", \"Topic6\", \"Topic6\", \"Topic6\", \"Topic6\", \"Topic6\", \"Topic6\", \"Topic6\", \"Topic6\", \"Topic6\", \"Topic6\", \"Topic6\", \"Topic6\", \"Topic6\", \"Topic6\", \"Topic6\", \"Topic6\", \"Topic6\", \"Topic6\", \"Topic6\", \"Topic6\", \"Topic6\", \"Topic6\", \"Topic6\", \"Topic6\", \"Topic6\", \"Topic6\", \"Topic6\", \"Topic6\", \"Topic6\", \"Topic6\", \"Topic6\", \"Topic6\", \"Topic6\", \"Topic6\", \"Topic6\", \"Topic6\", \"Topic6\", \"Topic6\", \"Topic6\", \"Topic6\", \"Topic6\", \"Topic6\", \"Topic6\", \"Topic6\", \"Topic6\", \"Topic7\", \"Topic7\", \"Topic7\", \"Topic7\", \"Topic7\", \"Topic7\", \"Topic7\", \"Topic7\", \"Topic7\", \"Topic7\", \"Topic7\", \"Topic7\", \"Topic7\", \"Topic7\", \"Topic7\", \"Topic7\", \"Topic7\", \"Topic7\", \"Topic7\", \"Topic7\", \"Topic7\", \"Topic7\", \"Topic7\", \"Topic7\", \"Topic7\", \"Topic7\", \"Topic7\", \"Topic7\", \"Topic7\", \"Topic7\", \"Topic7\", \"Topic7\", \"Topic7\", \"Topic7\", \"Topic7\", \"Topic8\", \"Topic8\", \"Topic8\", \"Topic8\", \"Topic8\", \"Topic8\", \"Topic8\", \"Topic8\", \"Topic8\", \"Topic8\", \"Topic8\", \"Topic8\", \"Topic8\", \"Topic8\", \"Topic8\", \"Topic8\", \"Topic8\", \"Topic8\", \"Topic8\", \"Topic8\", \"Topic8\", \"Topic8\", \"Topic8\", \"Topic8\", \"Topic8\", \"Topic8\", \"Topic8\", \"Topic8\", \"Topic8\", \"Topic8\", \"Topic8\", \"Topic8\", \"Topic8\", \"Topic8\", \"Topic8\", \"Topic8\", \"Topic8\", \"Topic8\", \"Topic8\", \"Topic8\", \"Topic8\", \"Topic8\", \"Topic8\", \"Topic8\", \"Topic8\", \"Topic8\", \"Topic8\"], \"Freq\": [53.0, 24.0, 23.0, 33.0, 16.0, 27.0, 27.0, 21.0, 21.0, 21.0, 21.0, 21.0, 12.0, 20.0, 29.0, 8.0, 8.0, 7.0, 8.0, 14.0, 30.0, 9.0, 49.0, 19.0, 9.0, 18.0, 9.0, 7.0, 14.0, 11.0, 23.635326414158627, 22.729786305815775, 20.91867892868924, 20.91867892868924, 20.91867892868924, 20.91867892868924, 20.91867892868924, 20.01310830716346, 12.768528250722829, 11.862963585370178, 10.957403862777815, 10.957384227530973, 10.957384227530973, 10.051830794152314, 10.051830794152314, 10.051830794152314, 10.051820403274327, 9.146262728378083, 9.146262728378083, 9.146262728378083, 9.146262728378083, 9.146262728378083, 9.146259966496164, 9.146259966496164, 7.335118105940986, 7.335118105940986, 7.335118105940986, 5.523980459470982, 5.523980459470982, 5.523980459470982, 5.523980459470982, 24.31253108679571, 24.31253108678827, 24.152665684772845, 15.157167737156902, 15.089477237116975, 22.657430270570405, 23.03658247667467, 15.098569845098204, 9.146267759046918, 5.381735465214525, 3.6172203375432646, 3.6171877852620287, 3.603025693355561, 7.087750076486078, 2.734981417918011, 2.734981417918011, 2.734981417918011, 2.7349814177063227, 2.7349814177063227, 2.7349814177063227, 2.7349814177063227, 2.7349814177063227, 2.734981008894552, 2.734981008894552, 2.734981008894552, 2.7349790984997684, 2.7349790984997684, 2.7349790984997684, 2.734978272749398, 2.7349767778894063, 2.734974628991721, 2.734974628945541, 2.734974628945541, 2.7349746288088275, 2.7349746288088275, 2.7349248008047033, 2.7349248008047033, 2.7349248008047033, 2.7349248008047033, 2.7349248008047033, 2.7349248008047033, 2.7349248008047033, 2.7349248008047033, 5.38173813242275, 5.38172990018726, 5.38172990018726, 15.558715933860162, 6.7151880449957195, 4.499479956884468, 4.499479956884468, 4.499479956884468, 7.352626046806871, 3.617228588402527, 3.617228588402527, 15.769270107122088, 8.777591001015494, 3.6172362356060312, 4.365286064445393, 3.61721850033273, 3.61721850033273, 3.61721850033273, 3.61721850033273, 3.5155712443960407, 3.5216523384740284, 5.681110261146671, 3.617201564785837, 3.1418142847034276, 2.8701964975069094, 4.236789383449142, 4.236787171397269, 4.236787171397269, 4.236787171397269, 3.4060490375411785, 3.4060490375411785, 3.4060490375411785, 3.4060490375411785, 3.4060490375411785, 3.4060490375411785, 3.4060490375411785, 3.4060490375411785, 3.4060490375411785, 3.4060490375411785, 3.4060490375411785, 3.4060490375411785, 3.4060490375411785, 3.4060490375411785, 3.4060490375411785, 3.4060490375411785, 3.4060490375411785, 3.4060447977189847, 3.4060447977189847, 3.4060447977189847, 3.4060447977189847, 3.4060447977189847, 3.406042857621409, 3.406042857621409, 3.406042857621409, 2.575305369804651, 2.575305369804651, 6.72902451703691, 5.887596257572816, 6.378354179346974, 4.236629865781379, 6.334709431912629, 3.683059233468892, 3.7690992095129165, 3.6698781454287355, 3.428431096851019, 3.4060543099351697, 6.753638866859663, 5.919860453430962, 4.252303081132911, 4.252297462085921, 4.252297462085921, 4.252297462085921, 4.252297462085921, 4.252276473026978, 3.4185095596257513, 3.4185051426310857, 3.418505142631083, 3.4185051426310835, 3.4184937552338046, 2.5847292548429652, 2.5847292548429652, 2.5847292548429652, 2.5847292548429652, 2.5847292548429652, 2.58472519322124, 2.5847231510435202, 2.584719618290333, 7.489093436953646, 1.7509497503382787, 1.7509497503382787, 1.7509497503382787, 1.7509497503382787, 1.7509497503382787, 1.7509497503382787, 1.7509497503382787, 1.7509497503382787, 1.7509497503382787, 1.7509497503382787, 1.7509497503382787, 1.7509497503382787, 4.085657773979196, 9.205700668740821, 8.677302935363228, 3.418499417977996, 5.318704556291398, 5.614712193154884, 2.5738656141693106, 3.418529359823369, 3.671165482732032, 5.434302244648235, 4.340331316392663, 2.833408195774087, 3.096068009054285, 2.5847383805436985, 2.5847383805436985, 2.5847383805436985, 2.5847383805436985, 7.852650844615513, 3.187719656287715, 3.187715537321672, 3.187714949328322, 3.187712709300259, 3.187712709300259, 2.4102274613469428, 2.4102274613469428, 2.410225166495944, 2.410225166495944, 2.410225166495944, 2.4102239370576477, 2.4101974283402687, 2.4099400614089896, 2.4099400614089896, 2.4099400614089896, 2.4099400614089896, 1.632736007907194, 1.632736007870032, 1.6327349553657584, 1.6327349553657584, 1.6327349553657584, 1.6327349553657584, 1.6327349553657584, 1.6327342787090466, 1.6327342787090466, 1.6327342787090466, 1.6327342787090466, 1.6327342787090466, 1.6327342787090466, 5.519730810409633, 1.6327342787090466, 3.8399057127500025, 2.326793538637753, 3.6954465059436084, 9.494926111704618, 6.628240702202813, 5.208208882447712, 2.4101439667949367, 1.9728577109863343, 1.7233535306352135, 1.6327371385464833, 3.2029536655635957, 3.202952750018182, 3.2029013459019815, 2.4217465871644843, 2.4217465871644843, 2.4217465871644843, 2.4217465871644843, 2.4217465871644843, 2.4217465871644843, 2.4217465871644843, 2.4217465871644843, 2.4217465871644843, 2.4217465871644843, 2.4217465871644843, 2.4217465871644843, 2.4217465871644843, 2.4217465871644843, 2.4217459857360377, 2.4217459857360377, 2.4217445185012734, 2.4217445185012734, 2.4217445185012734, 2.4217445185012734, 2.4217445185012734, 2.4217445185012734, 2.4217445185012734, 2.4217445185012734, 2.4217445185012734, 2.4217445185012734, 1.6405380105993579, 2.4217480005695, 3.202954192377107, 5.749689802234336, 3.2029938856372344, 3.2029629227415763, 2.942240317595604, 3.2029673184249328, 3.50887211421614, 2.42175268294086, 2.4217515216219625, 2.421750084814467, 2.421749226845267, 2.4217488545251347, 2.421746908896082, 2.4217466208302048, 2.4217466208302048, 2.4217466208302048, 2.4217466208302048, 2.4217466208302048, 2.4217466208302048, 6.993506021403267, 4.687954501581143, 3.9194372867019327, 3.9194372867019327, 3.9194372867019327, 3.9194372867019327, 3.9194372867019327, 3.9194372867019327, 3.9194372867019327, 3.9194372867019327, 3.1509202462890786, 3.150920185476926, 3.150920185476926, 2.3824032187553383, 2.3824032187553383, 2.3824032187553383, 2.3824032187553383, 2.3824032187553383, 2.3824032187553383, 2.3824027486125496, 2.3824027486125496, 2.3824027486125496, 2.3824027486125496, 2.3824027486125496, 2.3824027486125496, 2.3824027486125496, 2.3824027486125496, 2.3824027486125496, 2.3824027486125496, 1.6138860513810425, 1.6138860513810425, 1.6138860513810425, 5.965892363577146, 3.150929236635317, 3.618650158489248, 2.9922019702544786, 2.992123422790594, 2.2624033295662995, 2.262403329541873, 2.262403329541873, 2.2623990416628597, 2.2623990416628597, 1.5325958037975387, 1.5325958037975387, 1.5325958037975387, 1.5325958037975387, 1.5325958037975387, 1.5325958037975387, 1.5325958037823395, 1.5325958037823395, 1.5325958037823395, 1.5325958036584102, 1.5325958036584102, 1.5325958036584104, 1.5325958036584102, 1.5325958036584102, 1.532592895978783, 1.532592895978783, 1.532592895978783, 1.532592895978783, 1.532592895978783, 1.532571808176334, 1.532571808176334, 1.532569192940529, 1.5325621710332633, 1.5325621710332633, 5.997342160622295, 3.551399109715826, 5.1815219113587005, 6.43758253898425, 2.9922130829945712, 7.819420439494993, 3.1032266397327986, 2.6830154500166445, 1.74371678946968, 2.2622887208493134, 2.2624265044369705, 5.104190891828317, 2.346495393327594, 1.569904954832188, 1.5515601984792953, 1.53259652218021], \"Term\": [\"rd\", \"directorio aprueba\", \"registro\", \"aprueba\", \"nacional\", \"digital terrestre\", \"terrestre\", \"marca\", \"directorio aprueba registro\", \"digital terrestre marca\", \"terrestre marca\", \"aprueba registro\", \"modifica\", \"modelo\", \"digital\", \"telecomunicaciones\", \"rd modifica\", \"gmc\", \"resolucion\", \"frecuencias\", \"televisi\\u00f3n\", \"servicios\", \"directorio\", \"televisi\\u00f3n digital\", \"firma\", \"televisi\\u00f3n digital terrestre\", \"plan\", \"plan nacional\", \"uso\", \"estaciones\", \"directorio aprueba\", \"registro\", \"aprueba registro\", \"digital terrestre marca\", \"directorio aprueba registro\", \"terrestre marca\", \"marca\", \"modelo\", \"receptores\", \"registro receptores\", \"aprueba registro receptores\", \"receptores televisi\\u00f3n digital\", \"receptores televisi\\u00f3n\", \"aprueba registro receptor\", \"receptor\", \"registro receptor\", \"registro receptores televisi\\u00f3n\", \"samsung modelo\", \"samsung\", \"marca samsung modelo\", \"terrestre marca samsung\", \"marca samsung\", \"television digital terrestre\", \"television digital\", \"receptor television\", \"registro receptor television\", \"receptor television digital\", \"marca tokyo\", \"terrestre marca tokyo\", \"marca tokyo modelo\", \"tokyo modelo\", \"digital terrestre\", \"terrestre\", \"digital\", \"televisi\\u00f3n digital terrestre\", \"televisi\\u00f3n digital\", \"aprueba\", \"directorio\", \"televisi\\u00f3n\", \"television\", \"reglamento servicio\", \"servicio televisi\\u00f3n\", \"otorgamiento\", \"se\\u00f1ales\", \"p\\u00fablica\", \"titulares licencia\", \"titulares\", \"se\\u00f1al\", \"resuelve\", \"rd resuelve\", \"resuelve modificar\", \"rd resuelve modificar\", \"modificar\", \"otorgamiento licencias\", \"otorgamiento licencias servicio\", \"licencias servicio radiodifusi\\u00f3n\", \"art\\u00edculos\", \"art\\u00edculos reglamento servicio\", \"art\\u00edculos reglamento\", \"cumplimiento\", \"reglamento servicio televisi\\u00f3n\", \"recepci\\u00f3n\", \"pago\", \"satelital\", \"cabledistribuci\\u00f3n\", \"servicio cabledistribuci\\u00f3n\", \"operaciones socorro\", \"socorro\", \"operaciones\", \"p\\u00fablica operaciones socorro\", \"seguridad\", \"p\\u00fablica operaciones\", \"emergencias\", \"seguridad p\\u00fablica\", \"correspondiente\", \"uso espectro\", \"espectro\", \"servicio\", \"reglamento\", \"arancel uso espectro\", \"arancel uso\", \"arancel\", \"uso\", \"uso espectro radioel\\u00e9ctrico\", \"espectro radioel\\u00e9ctrico\", \"rd\", \"televisi\\u00f3n\", \"radioel\\u00e9ctrico\", \"fecha\", \"radiodifusi\\u00f3n\", \"servicio radiodifusi\\u00f3n sonora\", \"servicio radiodifusi\\u00f3n\", \"radiodifusi\\u00f3n sonora\", \"directorio fecha\", \"sonora\", \"directorio\", \"television\", \"aprueba\", \"rd aprueba\", \"operaci\\u00f3n\", \"isdb tb\", \"isdb\", \"tb\", \"telecel descargar\", \"microondas firma telecel\", \"estaciones radiobases\", \"estaciones radiobases servicio\", \"radiobases\", \"llamada estaciones radiobases\", \"privado microondas firma\", \"firma telecel descargar\", \"microondas firma\", \"radiobases servicio privado\", \"indicativos\", \"indicativos llamada\", \"indicativos llamada estaciones\", \"radiobases servicio\", \"llamada estaciones\", \"asignacion\", \"autoriza asignacion\", \"est\\u00e1ndar televisi\\u00f3n\", \"operaci\\u00f3n est\\u00e1ndar\", \"operaci\\u00f3n est\\u00e1ndar televisi\\u00f3n\", \"est\\u00e1ndar\", \"est\\u00e1ndar televisi\\u00f3n digital\", \"terrestre isdb\", \"terrestre isdb tb\", \"digital terrestre isdb\", \"autoriza asignacion frecuencias\", \"asignacion frecuencias indicativos\", \"firma\", \"estaciones\", \"televisi\\u00f3n\", \"autoriza\", \"rd\", \"llamada\", \"televisi\\u00f3n digital\", \"digital\", \"servicio\", \"microondas\", \"plan nacional\", \"prg\", \"estudio\", \"nacional atribuci\\u00f3n\", \"plan nacional atribuci\\u00f3n\", \"atribuci\\u00f3n frecuencias\", \"nacional atribuci\\u00f3n frecuencias\", \"pnaf\", \"secundario\", \"frecuencias pnaf\", \"prg plan nacional\", \"prg plan\", \"bandas\", \"transmisora\", \"planta\", \"enlaces\", \"estudio secundario\", \"planta transmisora\", \"modifica plan\", \"nota\", \"atribuci\\u00f3n frecuencias pnaf\", \"plan\", \"conforme\", \"establecido\", \"establecido ley\", \"establecido ley descargar\", \"modulaci\\u00f3n frecuencia conforme\", \"ley descargar\", \"conforme establecido ley\", \"conforme establecido\", \"frecuencia conforme\", \"frecuencia conforme establecido\", \"frecuencias servicio\", \"frecuencias servicio radiodifusi\\u00f3n\", \"atribuci\\u00f3n\", \"frecuencias\", \"nacional\", \"paraguay\", \"modifica\", \"uso\", \"modifican\", \"sonora\", \"banda\", \"directorio\", \"rd\", \"aprobado\", \"servicio\", \"radiodifusi\\u00f3n\", \"servicio radiodifusi\\u00f3n sonora\", \"servicio radiodifusi\\u00f3n\", \"radiodifusi\\u00f3n sonora\", \"telecomunicaciones\", \"internet\", \"telecomunicaciones descargar\", \"aparatos\", \"rd n\\u00ba\", \"n\\u00ba\", \"m\\u00f3viles\", \"celulares\", \"acceso\", \"acceso internet\", \"datos\", \"reglamenta\", \"cobertura\", \"equipos aparatos telecomunicaciones\", \"aparatos telecomunicaciones descargar\", \"equipos aparatos\", \"aparatos telecomunicaciones\", \"aprueban\", \"servicios telefon\\u00eda\", \"internet transmisi\\u00f3n\", \"transmisi\\u00f3n datos\", \"transmisi\\u00f3n\", \"internet transmisi\\u00f3n datos\", \"acceso internet transmisi\\u00f3n\", \"usuario telecomunicaciones\", \"reglamento protecci\\u00f3n usuario\", \"reglamento protecci\\u00f3n\", \"protecci\\u00f3n\", \"protecci\\u00f3n usuario\", \"protecci\\u00f3n usuario telecomunicaciones\", \"servicios\", \"usuario\", \"equipos\", \"conatel\", \"rd aprueba\", \"rd\", \"aprueba\", \"directorio\", \"microondas\", \"reglamento\", \"servicio\", \"licitaci\\u00f3n\", \"voz\", \"llamadas\", \"cargos\", \"telecel modificacion parametros\", \"parametros\", \"estaciones servicio privado\", \"modificacion parametros estaciones\", \"autoriza firma telecel\", \"autoriza firma\", \"modificacion parametros\", \"firma telecel modificacion\", \"microondas descargar\", \"parametros estaciones\", \"privado microondas descargar\", \"telecel modificacion\", \"rd autoriza firma\", \"estaciones servicio\", \"topes cargos\", \"topes\", \"sms rs\", \"sms\", \"celular stmc pcs\", \"celular stmc\", \"voz mensajes\", \"stmc pcs\", \"stmc\", \"texto sms\", \"texto sms rs\", \"mensajes\", \"parametros estaciones servicio\", \"modificacion\", \"rd autoriza\", \"rd\", \"autoriza\", \"servicios\", \"establece\", \"estaciones\", \"servicio\", \"rd establece\", \"microondas\", \"telefon\\u00eda\", \"celular\", \"texto\", \"pcs\", \"servicio privado microondas\", \"telecel\", \"firma telecel\", \"privado\", \"privado microondas\", \"servicio privado\", \"gmc\", \"res\", \"mercosur\", \"gmc res\", \"grupo\", \"ordenamiento\", \"mercosur gmc res\", \"mercosur gmc\", \"incorpora\", \"incorpora ordenamiento\", \"gmc descargar\", \"mercado\", \"grupo mercado\", \"mercado comun\", \"mercado comun mercosur\", \"comun\", \"comun mercosur\", \"comun mercosur gmc\", \"grupo mercado comun\", \"jur\\u00eddico\", \"jur\\u00eddico nacional grupo\", \"nacional grupo\", \"jur\\u00eddico nacional\", \"rd incorpora\", \"rd incorpora ordenamiento\", \"com\\u00fan\", \"ordenamiento jur\\u00eddico\", \"ordenamiento jur\\u00eddico nacional\", \"incorpora ordenamiento jur\\u00eddico\", \"juridico\", \"juridico nacional\", \"incorpora ordenamiento juridico\", \"nacional\", \"resolucion\", \"rd\", \"tabla anexo\", \"parcialmente\", \"articulo resolucion\", \"modifica parcialmente\", \"rd modifica parcialmente\", \"directorio fecha descargar\", \"fecha descargar\", \"reglamento homologaci\\u00f3n\", \"parcialmente reglamento homologaci\\u00f3n\", \"homologaci\\u00f3n aprobado\", \"parcialmente reglamento\", \"reglamento homologaci\\u00f3n aprobado\", \"modifica parcialmente reglamento\", \"anexo resolucion\", \"tabla anexo resolucion\", \"resolucion descargar\", \"actualiza\", \"actualiza tabla\", \"actualiza tabla anexo\", \"rd actualiza tabla\", \"rd actualiza\", \"calcoman\\u00eda\", \"aprobaci\\u00f3n tipo\", \"calcoman\\u00eda aprobaci\\u00f3n tipo\", \"calcoman\\u00eda aprobaci\\u00f3n\", \"aprobaci\\u00f3n\", \"fecha abril\", \"abril\", \"definen\", \"movil celular\", \"telefonia movil celular\", \"rd modifica\", \"anexo\", \"resolucion\", \"modifica\", \"tabla\", \"rd\", \"fecha\", \"aprobado\", \"resolucion directorio\", \"directorio descargar\", \"articulo\", \"directorio\", \"directorio fecha\", \"reglamento\", \"aprobado directorio\", \"homologaci\\u00f3n\"], \"Total\": [53.0, 24.0, 23.0, 33.0, 16.0, 27.0, 27.0, 21.0, 21.0, 21.0, 21.0, 21.0, 12.0, 20.0, 29.0, 8.0, 8.0, 7.0, 8.0, 14.0, 30.0, 9.0, 49.0, 19.0, 9.0, 18.0, 9.0, 7.0, 14.0, 11.0, 24.195763837749837, 23.290197267918938, 21.479060730560214, 21.479060730560214, 21.479060730560214, 21.479060730560214, 21.479060730560214, 20.57349015566924, 13.328923257625485, 12.423353119589558, 11.517784657218975, 11.517781686050338, 11.517781686050338, 10.612213736228806, 10.612213736228806, 10.612213736228806, 10.612211587735931, 9.70664352280382, 9.70664352280382, 9.70664352280382, 9.70664352280382, 9.70664352280382, 9.706643132184675, 9.706643132184675, 7.895501895067614, 7.895501895067614, 7.895501895067614, 6.084361253959597, 6.084361253959597, 6.084361253959597, 6.084361253959597, 27.57469769478287, 27.574697694782255, 29.280210672981614, 18.51075685189663, 19.335907300105422, 33.81352371755425, 49.01781832149948, 30.64363571582436, 13.235647410126699, 5.944450330279913, 4.179945421451231, 4.179941007537461, 4.179164392602444, 8.479503231786403, 3.2976940619221216, 3.2976940619221216, 3.2976940619221216, 3.2976940618995187, 3.2976940618995187, 3.2976940618995187, 3.2976940618995187, 3.2976940618995187, 3.297694038042107, 3.297694038042107, 3.297694038042107, 3.297694123213574, 3.297694123213574, 3.297694123213574, 3.2976935184976828, 3.2976941845460077, 3.2976928888673447, 3.2976928888624233, 3.2976928888624233, 3.297692888847819, 3.297692888847819, 3.2976897664845484, 3.2976897664845484, 3.2976897664845484, 3.2976897664845484, 3.2976897664845484, 3.2976897664845484, 3.2976897664845484, 3.2976897664845484, 7.612020824710567, 7.612019667945727, 7.612019667945727, 30.055964686311377, 10.669935251650923, 6.7297680159475375, 6.7297680159475375, 6.7297680159475375, 14.31668824764924, 5.013730879265568, 5.013730879265568, 53.21755653032879, 30.64363571582436, 5.782255003790337, 8.792024868308525, 6.681301041800175, 6.681301041800175, 6.681301041800175, 6.681301041800175, 6.35180302414925, 8.281232822794832, 49.01781832149948, 13.235647410126699, 33.81352371755425, 8.873019087057646, 4.804655940625485, 4.804656067186845, 4.804656067186845, 4.804656067186845, 3.973912521708025, 3.973912521708025, 3.973912521708025, 3.973912521708025, 3.973912521708025, 3.973912521708025, 3.973912521708025, 3.973912521708025, 3.973912521708025, 3.973912521708025, 3.973912521708025, 3.973912521708025, 3.973912521708025, 3.973912521708025, 3.973912521708025, 3.973912521708025, 3.973912521708025, 3.973912204126758, 3.973912204126758, 3.973912204126758, 3.973912204126758, 3.973912204126758, 3.973912431807611, 3.973912431807611, 3.973912431807611, 3.143168853971899, 3.143168853971899, 9.640512939779565, 11.088505405741662, 30.64363571582436, 8.706990230796317, 53.21755653032879, 5.552847074644307, 19.335907300105422, 29.280210672981614, 30.055964686311377, 8.650023882527268, 7.321221111165222, 6.487435970115828, 4.819865593319081, 4.819865299564983, 4.819865299564983, 4.819865299564983, 4.819865299564983, 4.819863882478766, 3.9860793871850966, 3.9860792732285573, 3.9860792732285564, 3.986079273228557, 3.9860783931127752, 3.1522942231069506, 3.1522942231069506, 3.1522942231069506, 3.1522942231069506, 3.1522942231069506, 3.1522933837276317, 3.1522943230281615, 3.1522937262187605, 9.800237285505693, 2.318509041780841, 2.318509041780841, 2.318509041780841, 2.318509041780841, 2.318509041780841, 2.318509041780841, 2.318509041780841, 2.318509041780841, 2.318509041780841, 2.318509041780841, 2.318509041780841, 2.318509041780841, 5.5753381287492285, 14.96443119222593, 16.04263671709436, 5.6990731392648675, 12.250939425879384, 14.31668824764924, 4.763000309348501, 8.281232822794832, 11.211876701900701, 49.01781832149948, 53.21755653032879, 7.886158226427205, 30.055964686311377, 6.681301041800175, 6.681301041800175, 6.681301041800175, 6.681301041800175, 8.425873473233771, 3.7609110141019926, 3.7609116936261424, 3.760911869171623, 3.760911533145024, 3.760911533145024, 2.983418128253229, 2.983418128253229, 2.983417606179353, 2.983417606179353, 2.983417606179353, 2.9834179120967788, 2.9834192014851237, 2.983437732894834, 2.983437732894834, 2.983437732894834, 2.983437732894834, 2.205924525238982, 2.205924525239957, 2.2059244606826285, 2.2059244606826285, 2.2059244606826285, 2.2059244606826285, 2.2059244606826285, 2.2059245638457274, 2.2059245638457274, 2.2059245638457274, 2.2059245638457274, 2.2059245638457274, 2.2059245638457274, 9.218259371604143, 2.2059245638457274, 6.208474693480121, 3.750972262534127, 8.873019087057646, 53.21755653032879, 33.81352371755425, 49.01781832149948, 8.650023882527268, 10.669935251650923, 30.055964686311377, 4.852680560186025, 3.775772251988279, 3.7757721524890973, 3.775775610829978, 2.99456358043722, 2.99456358043722, 2.99456358043722, 2.99456358043722, 2.99456358043722, 2.99456358043722, 2.99456358043722, 2.99456358043722, 2.99456358043722, 2.99456358043722, 2.99456358043722, 2.99456358043722, 2.99456358043722, 2.99456358043722, 2.994563618575331, 2.994563618575331, 2.9945637116086674, 2.9945637116086674, 2.9945637116086674, 2.9945637116086674, 2.9945637116086674, 2.9945637116086674, 2.9945637116086674, 2.9945637116086674, 2.9945637116086674, 2.9945637116086674, 2.2133550038835104, 3.7630807707770018, 6.26800314301807, 53.21755653032879, 8.706990230796317, 9.218259371604143, 7.27385773533814, 11.088505405741662, 30.055964686311377, 4.759063051506546, 8.650023882527268, 4.549550312536861, 5.2705129288802235, 3.772057849313069, 4.549550049350605, 6.317538249240098, 6.317538249240098, 6.317538249240098, 6.317538249240098, 6.317538249240098, 6.317538249240098, 7.567592393083723, 5.262040894121015, 4.493523735219496, 4.493523735219496, 4.493523735219496, 4.493523735219496, 4.493523735219496, 4.493523735219496, 4.493523735219496, 4.493523735219496, 3.725006545205407, 3.72500655605091, 3.72500655605091, 2.9564893528956624, 2.9564893528956624, 2.9564893528956624, 2.9564893528956624, 2.9564893528956624, 2.9564893528956624, 2.9564894367331003, 2.9564894367331003, 2.9564894367331003, 2.9564894367331003, 2.9564894367331003, 2.9564894367331003, 2.9564894367331003, 2.9564894367331003, 2.9564894367331003, 2.9564894367331003, 2.1879721855226166, 2.1879721855226166, 2.1879721855226166, 16.04263671709436, 8.833671675598207, 53.21755653032879, 3.5701698095686476, 3.570174297515159, 2.8403604279392987, 2.8403604279419676, 2.8403604279419676, 2.8403613758394504, 2.8403613758394504, 2.1105529022282923, 2.1105529022282923, 2.1105529022282923, 2.1105529022282923, 2.1105529022282923, 2.1105529022282923, 2.1105529022299523, 2.1105529022299523, 2.1105529022299523, 2.1105529022434935, 2.1105529022434935, 2.1105529022434935, 2.1105529022434935, 2.1105529022434935, 2.11055359373568, 2.11055359373568, 2.11055359373568, 2.11055359373568, 2.11055359373568, 2.110556651781032, 2.110556651781032, 2.110557281601704, 2.11055509981089, 2.11055509981089, 8.978559780154276, 5.217867052205997, 8.833671675598207, 12.250939425879384, 5.381308267592864, 53.21755653032879, 8.792024868308525, 7.886158226427205, 2.876897171070641, 5.487121067916027, 5.533748582124527, 49.01781832149948, 6.35180302414925, 10.669935251650923, 5.494559091526337, 3.665539729894905], \"loglift\": [30.0, 29.0, 28.0, 27.0, 26.0, 25.0, 24.0, 23.0, 22.0, 21.0, 20.0, 19.0, 18.0, 17.0, 16.0, 15.0, 14.0, 13.0, 12.0, 11.0, 10.0, 9.0, 8.0, 7.0, 6.0, 5.0, 4.0, 3.0, 2.0, 1.0, 1.3014, 1.3005, 1.2984, 1.2984, 1.2984, 1.2984, 1.2984, 1.2972, 1.2819, 1.2787, 1.275, 1.275, 1.275, 1.2706, 1.2706, 1.2706, 1.2706, 1.2654, 1.2654, 1.2654, 1.2654, 1.2654, 1.2654, 1.2654, 1.2512, 1.2512, 1.2512, 1.2282, 1.2282, 1.2282, 1.2282, 1.1989, 1.1989, 1.1323, 1.125, 1.0769, 0.9245, 0.5697, 0.617, 0.9553, 1.5363, 1.4912, 1.4912, 1.4874, 1.4565, 1.4487, 1.4487, 1.4487, 1.4487, 1.4487, 1.4487, 1.4487, 1.4487, 1.4487, 1.4487, 1.4487, 1.4487, 1.4487, 1.4487, 1.4487, 1.4487, 1.4487, 1.4487, 1.4487, 1.4487, 1.4487, 1.4486, 1.4486, 1.4486, 1.4486, 1.4486, 1.4486, 1.4486, 1.4486, 1.289, 1.289, 1.289, 0.9773, 1.1727, 1.2332, 1.2332, 1.2332, 0.9694, 1.3093, 1.3093, 0.4194, 0.3855, 1.1667, 0.9356, 1.0222, 1.0222, 1.0222, 1.0222, 1.0442, 0.7807, -0.5193, 0.3386, -0.7403, 0.5071, 2.0251, 2.0251, 2.0251, 2.0251, 1.9967, 1.9967, 1.9967, 1.9967, 1.9967, 1.9967, 1.9967, 1.9967, 1.9967, 1.9967, 1.9967, 1.9967, 1.9967, 1.9967, 1.9967, 1.9967, 1.9967, 1.9967, 1.9967, 1.9967, 1.9967, 1.9967, 1.9967, 1.9967, 1.9967, 1.9516, 1.9516, 1.7913, 1.5178, 0.5813, 1.4305, 0.0225, 1.7403, 0.5157, 0.0741, -0.0201, 1.2189, 2.0725, 2.0616, 2.0279, 2.0279, 2.0279, 2.0279, 2.0279, 2.0279, 1.9996, 1.9996, 1.9996, 1.9996, 1.9996, 1.9547, 1.9547, 1.9547, 1.9547, 1.9547, 1.9547, 1.9547, 1.9547, 1.8842, 1.8724, 1.8724, 1.8724, 1.8724, 1.8724, 1.8724, 1.8724, 1.8724, 1.8724, 1.8724, 1.8724, 1.8724, 1.8423, 1.6673, 1.5386, 1.6421, 1.3188, 1.2171, 1.5377, 1.2684, 1.0367, -0.0463, -0.3533, 1.1295, -0.1198, 1.2035, 1.2035, 1.2035, 1.2035, 2.3857, 2.2908, 2.2908, 2.2908, 2.2908, 2.2908, 2.2429, 2.2429, 2.2429, 2.2429, 2.2429, 2.2429, 2.2428, 2.2427, 2.2427, 2.2427, 2.2427, 2.1553, 2.1553, 2.1553, 2.1553, 2.1553, 2.1553, 2.1553, 2.1553, 2.1553, 2.1553, 2.1553, 2.1553, 2.1553, 1.9433, 2.1553, 1.9757, 1.9787, 1.5803, 0.7326, 0.8267, 0.2143, 1.1783, 0.7683, -0.4026, 1.3669, 2.3429, 2.3429, 2.3429, 2.2952, 2.2952, 2.2952, 2.2952, 2.2952, 2.2952, 2.2952, 2.2952, 2.2952, 2.2952, 2.2952, 2.2952, 2.2952, 2.2952, 2.2952, 2.2952, 2.2952, 2.2952, 2.2952, 2.2952, 2.2952, 2.2952, 2.2952, 2.2952, 2.2952, 2.2952, 2.208, 2.0667, 1.8361, 0.2822, 1.5074, 1.4504, 1.6024, 1.2656, 0.3597, 1.8319, 1.2344, 1.8769, 1.7298, 2.0643, 1.8769, 1.5486, 1.5486, 1.5486, 1.5486, 1.5486, 1.5486, 2.5017, 2.4651, 2.444, 2.444, 2.444, 2.444, 2.444, 2.444, 2.444, 2.444, 2.4133, 2.4133, 2.4133, 2.3647, 2.3647, 2.3647, 2.3647, 2.3647, 2.3647, 2.3647, 2.3647, 2.3647, 2.3647, 2.3647, 2.3647, 2.3647, 2.3647, 2.3647, 2.3647, 2.2763, 2.2763, 2.2763, 1.5915, 1.5498, -0.1076, 2.5739, 2.5739, 2.523, 2.523, 2.523, 2.523, 2.523, 2.4305, 2.4305, 2.4305, 2.4305, 2.4305, 2.4305, 2.4305, 2.4305, 2.4305, 2.4305, 2.4305, 2.4305, 2.4305, 2.4305, 2.4305, 2.4305, 2.4305, 2.4305, 2.4305, 2.4305, 2.4305, 2.4305, 2.4305, 2.4305, 2.347, 2.3658, 2.217, 2.1071, 2.1636, 0.8327, 1.7091, 1.6723, 2.2498, 1.8645, 1.8561, 0.4884, 1.7547, 0.8341, 1.486, 1.8785], \"logprob\": [30.0, 29.0, 28.0, 27.0, 26.0, 25.0, 24.0, 23.0, 22.0, 21.0, 20.0, 19.0, 18.0, 17.0, 16.0, 15.0, 14.0, 13.0, 12.0, 11.0, 10.0, 9.0, 8.0, 7.0, 6.0, 5.0, 4.0, 3.0, 2.0, 1.0, -3.471, -3.5101, -3.5931, -3.5931, -3.5931, -3.5931, -3.5931, -3.6373, -4.0867, -4.1603, -4.2397, -4.2397, -4.2397, -4.326, -4.326, -4.326, -4.326, -4.4204, -4.4204, -4.4204, -4.4204, -4.4204, -4.4204, -4.4204, -4.6411, -4.6411, -4.6411, -4.9246, -4.9246, -4.9246, -4.9246, -3.4427, -3.4427, -3.4493, -3.9153, -3.9197, -3.5132, -3.4966, -3.9191, -4.4204, -4.6398, -5.0371, -5.0371, -5.041, -4.3644, -5.3167, -5.3167, -5.3167, -5.3167, -5.3167, -5.3167, -5.3167, -5.3167, -5.3167, -5.3167, -5.3167, -5.3167, -5.3167, -5.3167, -5.3167, -5.3167, -5.3167, -5.3167, -5.3167, -5.3167, -5.3167, -5.3167, -5.3167, -5.3167, -5.3167, -5.3167, -5.3167, -5.3167, -5.3167, -4.6398, -4.6398, -4.6398, -3.5782, -4.4184, -4.8188, -4.8188, -4.8188, -4.3278, -5.0371, -5.0371, -3.5647, -4.1506, -5.0371, -4.8491, -5.0371, -5.0371, -5.0371, -5.0371, -5.0656, -5.0639, -4.5857, -5.0371, -5.178, -5.2684, -4.3639, -4.3639, -4.3639, -4.3639, -4.5822, -4.5822, -4.5822, -4.5822, -4.5822, -4.5822, -4.5822, -4.5822, -4.5822, -4.5822, -4.5822, -4.5822, -4.5822, -4.5822, -4.5822, -4.5822, -4.5822, -4.5822, -4.5822, -4.5822, -4.5822, -4.5822, -4.5822, -4.5822, -4.5822, -4.8617, -4.8617, -3.9013, -4.0349, -3.9548, -4.3639, -3.9617, -4.504, -4.4809, -4.5076, -4.5756, -4.5822, -3.8953, -4.0271, -4.358, -4.358, -4.358, -4.358, -4.358, -4.358, -4.5762, -4.5762, -4.5762, -4.5762, -4.5762, -4.8558, -4.8558, -4.8558, -4.8558, -4.8558, -4.8558, -4.8558, -4.8558, -3.792, -5.2453, -5.2453, -5.2453, -5.2453, -5.2453, -5.2453, -5.2453, -5.2453, -5.2453, -5.2453, -5.2453, -5.2453, -4.3979, -3.5856, -3.6447, -4.5762, -4.1342, -4.08, -4.86, -4.5762, -4.5049, -4.1127, -4.3375, -4.7639, -4.6753, -4.8558, -4.8558, -4.8558, -4.8558, -3.4415, -4.3431, -4.3431, -4.3431, -4.3431, -4.3431, -4.6227, -4.6227, -4.6227, -4.6227, -4.6227, -4.6227, -4.6227, -4.6228, -4.6228, -4.6228, -4.6228, -5.0121, -5.0121, -5.0121, -5.0121, -5.0121, -5.0121, -5.0121, -5.0121, -5.0121, -5.0121, -5.0121, -5.0121, -5.0121, -3.794, -5.0121, -4.1569, -4.6579, -4.1953, -3.2516, -3.611, -3.8521, -4.6227, -4.8229, -4.9581, -5.0121, -4.287, -4.287, -4.287, -4.5666, -4.5666, -4.5666, -4.5666, -4.5666, -4.5666, -4.5666, -4.5666, -4.5666, -4.5666, -4.5666, -4.5666, -4.5666, -4.5666, -4.5666, -4.5666, -4.5666, -4.5666, -4.5666, -4.5666, -4.5666, -4.5666, -4.5666, -4.5666, -4.5666, -4.5666, -4.9561, -4.5666, -4.287, -3.702, -4.287, -4.287, -4.3719, -4.287, -4.1958, -4.5666, -4.5666, -4.5666, -4.5666, -4.5666, -4.5666, -4.5666, -4.5666, -4.5666, -4.5666, -4.5666, -4.5666, -3.433, -3.8329, -4.012, -4.012, -4.012, -4.012, -4.012, -4.012, -4.012, -4.012, -4.2302, -4.2302, -4.2302, -4.5098, -4.5098, -4.5098, -4.5098, -4.5098, -4.5098, -4.5098, -4.5098, -4.5098, -4.5098, -4.5098, -4.5098, -4.5098, -4.5098, -4.5098, -4.5098, -4.8993, -4.8993, -4.8993, -3.5919, -4.2302, -4.0918, -4.1121, -4.1121, -4.3916, -4.3916, -4.3916, -4.3916, -4.3916, -4.7811, -4.7811, -4.7811, -4.7811, -4.7811, -4.7811, -4.7811, -4.7811, -4.7811, -4.7811, -4.7811, -4.7811, -4.7811, -4.7811, -4.7811, -4.7811, -4.7811, -4.7811, -4.7811, -4.7811, -4.7811, -4.7811, -4.7811, -4.7811, -3.4167, -3.9407, -3.563, -3.3459, -4.112, -3.1514, -4.0756, -4.2211, -4.652, -4.3917, -4.3916, -3.578, -4.3551, -4.757, -4.7688, -4.7811]}, \"token.table\": {\"Topic\": [8, 5, 5, 5, 8, 8, 8, 2, 8, 8, 5, 5, 5, 8, 8, 2, 4, 8, 2, 4, 8, 1, 2, 3, 5, 1, 1, 1, 5, 2, 4, 2, 4, 2, 4, 1, 2, 8, 8, 2, 2, 2, 3, 3, 4, 7, 4, 4, 3, 5, 6, 3, 3, 6, 6, 2, 3, 4, 5, 7, 8, 4, 2, 8, 8, 8, 6, 5, 6, 8, 6, 6, 5, 5, 7, 7, 7, 7, 5, 7, 4, 4, 4, 2, 4, 2, 5, 8, 1, 2, 3, 1, 3, 3, 1, 1, 2, 3, 4, 5, 7, 8, 1, 1, 2, 8, 2, 8, 8, 2, 4, 3, 5, 5, 5, 2, 4, 2, 4, 2, 4, 6, 4, 4, 4, 3, 6, 7, 8, 3, 3, 6, 6, 4, 4, 3, 3, 3, 2, 4, 8, 8, 8, 3, 6, 3, 6, 3, 6, 4, 4, 2, 3, 4, 4, 4, 4, 7, 7, 7, 7, 7, 7, 5, 8, 8, 7, 7, 7, 7, 3, 3, 3, 5, 5, 5, 3, 3, 7, 7, 7, 7, 7, 4, 2, 2, 5, 3, 6, 3, 3, 6, 1, 1, 1, 1, 1, 6, 7, 7, 7, 7, 7, 7, 3, 5, 6, 6, 3, 3, 1, 4, 8, 8, 8, 4, 6, 7, 6, 6, 2, 4, 8, 2, 4, 8, 5, 2, 4, 7, 4, 4, 7, 4, 5, 2, 2, 3, 3, 3, 7, 7, 7, 2, 2, 2, 2, 2, 3, 4, 6, 6, 6, 8, 8, 8, 5, 6, 2, 4, 7, 4, 4, 4, 4, 4, 4, 4, 4, 3, 6, 3, 6, 6, 3, 5, 5, 5, 2, 5, 2, 2, 3, 3, 3, 2, 4, 2, 4, 2, 4, 7, 2, 3, 4, 5, 6, 7, 8, 8, 8, 2, 3, 5, 3, 6, 6, 2, 6, 7, 7, 4, 8, 8, 5, 2, 2, 2, 1, 1, 1, 1, 1, 1, 1, 1, 1, 1, 1, 5, 2, 5, 8, 8, 8, 5, 5, 2, 2, 7, 7, 8, 8, 6, 8, 2, 2, 1, 1, 2, 4, 2, 2, 2, 3, 4, 5, 6, 7, 8, 2, 3, 6, 3, 6, 2, 4, 2, 4, 2, 5, 6, 5, 2, 2, 6, 6, 2, 2, 4, 5, 6, 6, 1, 8, 8, 8, 3, 3, 6, 3, 6, 6, 5, 5, 8, 5, 6, 1, 2, 1, 1, 1, 2, 3, 1, 3, 1, 3, 1, 3, 3, 3, 1, 1, 1, 5, 6, 6, 6, 2, 2, 1, 6, 6, 5, 5, 4, 2, 4, 7, 2, 4, 2, 4, 5, 5, 6, 6], \"Freq\": [0.9476173019626188, 0.6703721248602723, 0.6703721248602723, 0.9066493597795707, 0.9476189854677526, 0.9476189854677526, 0.9476189854677526, 0.1916491911339946, 0.7665967645359784, 0.9476189854738324, 0.7976788886203757, 0.670367602430032, 0.670367602430032, 0.9476186749941753, 0.9476186749941753, 0.2536089110281639, 0.3804133665422459, 0.3804133665422459, 0.18199822466959933, 0.545994674008798, 0.36399644933919867, 0.6802012174809092, 0.08872189793229251, 0.02957396597743084, 0.20701776184201587, 0.9776963836282371, 0.9423104593023053, 0.9550447700986974, 0.9066493332464886, 0.5943741285763783, 0.29718706428818914, 0.5943741285763783, 0.29718706428818914, 0.5943741285763783, 0.29718706428818914, 0.3614186604827927, 0.18070933024139635, 0.3614186604827927, 0.7041359893367526, 0.9097265810318776, 0.9097265810318776, 0.9097265810318776, 0.754923512687333, 0.9544507913435887, 0.7174452755383574, 0.17936131888458934, 0.8298987111446912, 0.9516879645598763, 0.4594009978157712, 0.1148502494539428, 0.3445507483618284, 0.754923512687333, 0.9544507913435887, 0.6678769531111411, 0.6678769531111411, 0.1783822684797228, 0.0891911342398614, 0.3567645369594456, 0.1783822684797228, 0.1783822684797228, 0.0891911342398614, 0.7526194179179866, 0.9097269215533803, 0.9476186749941753, 0.9476186749941753, 0.9476186749941753, 0.7945387409662701, 0.1897348537977044, 0.3794697075954088, 0.1897348537977044, 0.6678769238559991, 0.6678769238559991, 0.6703720075506099, 0.6703717663962259, 0.6764779984886967, 0.6764779984886967, 0.6764779984886967, 0.676477979305749, 0.5331950918370204, 0.2665975459185102, 0.8626233342026585, 0.8626233342026585, 0.8626233342026585, 0.6568557962648658, 0.2627423185059463, 0.9097267478533597, 0.6703721248602723, 0.947617019179976, 0.8196662335543254, 0.03415275973143023, 0.1366110389257209, 0.8703631229487893, 0.10879539036859866, 0.7549235297657004, 0.9776963836282371, 0.46921712935379817, 0.12240446852707777, 0.04080148950902593, 0.10200372377256482, 0.10200372377256482, 0.04080148950902593, 0.10200372377256482, 0.9919091689329349, 0.9776963836282371, 0.5467347927752906, 0.3644898618501937, 0.6297424502605311, 0.31487122513026555, 0.7041357543488328, 0.9097277829133406, 0.951687814547702, 0.32214031605867954, 0.6442806321173591, 0.670367602430032, 0.670367602430032, 0.6568558960843255, 0.26274235843373017, 0.7978090759801485, 0.19945226899503712, 0.4124358915387199, 0.13747863051290662, 0.4124358915387199, 0.8626233342026585, 0.8626233342026585, 0.8626233342026585, 0.5411008770301164, 0.2705504385150582, 0.0901834795050194, 0.0901834795050194, 0.754923512687333, 0.754923512687333, 0.6678769531111411, 0.6678769531111411, 0.8298986605652419, 0.951687814547702, 0.7549235730181993, 0.7549235730181993, 0.7549235730181993, 0.4549577668300601, 0.11373944170751503, 0.3412183251225451, 0.9476173019626188, 0.7041357543488328, 0.7261024432751871, 0.20745784093576777, 0.4748685139121799, 0.3165790092747866, 0.754923512687333, 0.6678769531111411, 0.8626233342026585, 0.8626233342026585, 0.20047537801226348, 0.20047537801226348, 0.6014261340367905, 0.7526192517416056, 0.8626233342026585, 0.8626233342026585, 0.9249969655339174, 0.8053677124034615, 0.8901699947968811, 0.8901699947968811, 0.8053677100586019, 0.6764779984886967, 0.5456222404817155, 0.5456222404817155, 0.9476189854745778, 0.8901699947968811, 0.8901699947968811, 0.9140884026010971, 0.676477979305749, 0.754923512687333, 0.754923512687333, 0.754923512687333, 0.797679069978294, 0.9066493597795707, 0.9066493597795707, 0.8325257716817229, 0.8325257716817229, 0.9140884026010971, 0.9140884026010971, 0.676477979305749, 0.676477979305749, 0.676477979305749, 0.8626233342026585, 0.9097266045279165, 0.6182150180280972, 0.41214334535206476, 0.720351190340718, 0.1800877975851795, 0.754923512687333, 0.754923512687333, 0.7945394687076958, 0.9776963836282371, 0.9272000129453913, 0.9272000129453913, 0.986134739467566, 0.986134739467566, 0.6678769238559991, 0.8053677100586019, 0.6764779984886967, 0.6764779984886967, 0.8901699947968811, 0.8901699947968811, 0.8901699947968811, 0.3468198516838653, 0.23121323445591022, 0.23121323445591022, 0.6678769531111411, 0.754923512687333, 0.754923512687333, 0.9721247998599203, 0.4081319665525238, 0.48975835986302857, 0.7041359893360909, 0.9476189854745778, 0.9516880679590989, 0.531479423862337, 0.2657397119311685, 0.6678769531111411, 0.6678769531111411, 0.20995169747045078, 0.6298550924113523, 0.20995169747045078, 0.9097265979464321, 0.8626233342026585, 0.9476179987810809, 0.6703720075506099, 0.06233389296501628, 0.5610050366851465, 0.3740033577900977, 0.8298987111446912, 0.8298987111446912, 0.676477979305749, 0.9516877843811664, 0.7976789598906839, 0.9097277829133406, 0.9097277829133406, 0.8325257936116165, 0.7549235730181993, 0.7549235730181993, 0.8901699947968811, 0.676477979305749, 0.676477979305749, 0.9569513045248765, 0.9097266045279165, 0.9097266045279165, 0.9097269215493515, 0.17546712870033312, 0.17546712870033312, 0.5264013861009994, 0.6678769531111411, 0.6678769531111411, 0.9036056107090088, 0.8402951088656931, 0.9476189854745778, 0.9476189854745778, 0.43960391210235755, 0.43960391210235755, 0.10203834569179004, 0.7142684198425303, 0.10203834569179004, 0.9561246537581901, 0.8298987111446912, 0.951687814547702, 0.951687814547702, 0.8298989551428732, 0.9248646194950999, 0.7526192517416057, 0.7526192517416058, 0.4748685139121799, 0.3165790092747866, 0.4748685139121799, 0.3165790092747866, 0.6678769531111411, 0.754923512687333, 0.9066493173788653, 0.9066493173788653, 0.9066493173788653, 0.8255200580335517, 0.11793143686193595, 0.9097277829133406, 0.9097277829133406, 0.754923512687333, 0.754923512687333, 0.754923512687333, 0.5986857911318213, 0.449014343348866, 0.5986857911318213, 0.449014343348866, 0.6917716353529813, 0.1729429088382453, 0.1729429088382453, 0.3006526613239292, 0.11274474799647345, 0.0751631653309823, 0.16911712199471018, 0.11274474799647345, 0.0751631653309823, 0.1503263306619646, 0.9476189854677526, 0.9476189854677526, 0.3381036342383008, 0.22540242282553388, 0.45080484565106776, 0.478621329879469, 0.478621329879469, 0.6678769531111411, 0.4202507885174736, 0.4202507885174736, 0.676477979305749, 0.676477979305749, 0.22275287451119857, 0.6682586235335957, 0.7041359893360909, 0.7976789598906839, 0.9097265979464321, 0.9097265979464321, 0.9097269215479938, 0.9423104593023053, 0.8865807510442064, 0.8865807510442064, 0.9753225934857636, 0.9550450164655018, 0.9550450164655018, 0.9875399394611969, 0.9423104593023053, 0.8865807510442064, 0.9659227975318514, 0.9423106500775543, 0.6703720561208195, 0.6560489670185125, 0.18744256200528928, 0.18744256200528928, 0.9476189854745778, 0.9476189854745778, 0.9066493173788653, 0.9066493173788653, 0.8411206624994306, 0.9097265641122537, 0.9502016614097814, 0.33960963347631357, 0.5660160557938559, 0.9476189854738324, 0.34759671289462485, 0.6951934257892497, 0.9097265979464321, 0.9097265979464321, 0.9272000129453913, 0.9272000129453913, 0.9097269215493515, 0.7526192302252541, 0.9097277829133406, 0.9097277829133406, 0.5323402581480609, 0.09981379840276142, 0.09981379840276142, 0.0665425322685076, 0.1330850645370152, 0.0665425322685076, 0.0332712661342538, 0.9097269215533803, 0.4748685139121799, 0.3165790092747866, 0.4748685139121799, 0.3165790092747866, 0.5986857911318213, 0.449014343348866, 0.5986857911318213, 0.449014343348866, 0.9569502940091605, 0.6508820980327756, 0.3254410490163878, 0.906649333246088, 0.9097265979401967, 0.9571291349726314, 0.6678769238559991, 0.6678769238559991, 0.9097277829133406, 0.4830198698181318, 0.3622649023635988, 0.12075496745453294, 0.6678769238559991, 0.6678769238559991, 0.37165683520573123, 0.5574852528085968, 0.8402961651738531, 0.9476189854738324, 0.8325257716817229, 0.4748685139121799, 0.3165790092747866, 0.754923512687333, 0.6678769531111411, 0.6678769531111411, 0.9494564599638683, 0.7976789258530829, 0.9476179987810809, 0.4396038866717766, 0.4396038866717766, 0.6799818491019962, 0.3022141551564428, 0.9272000502581956, 0.9272000502581956, 0.48949805235590915, 0.29369883141354547, 0.19579922094236366, 0.7757587873788688, 0.20686900996769836, 0.810339637650369, 0.1620679275300738, 0.8703631229488087, 0.10879539036860109, 0.7549235297657004, 0.7549235297657004, 0.9776963836282371, 0.9272000129453913, 0.986134739467566, 0.2651072809453626, 0.5302145618907252, 0.6678769238559991, 0.6678769238559991, 0.9097265979401967, 0.9097265979401967, 0.986134739467566, 0.6678769446052055, 0.6678769446052055, 0.9066493597795707, 0.9066493597795707, 0.951687814547702, 0.48893989160861834, 0.41909133566453, 0.06984855594408834, 0.6568558960843255, 0.26274235843373017, 0.7978090759801485, 0.19945226899503712, 0.9066493173788653, 0.9066493173788653, 0.7945394477699851, 0.6678769238559991], \"Term\": [\"abril\", \"acceso\", \"acceso internet\", \"acceso internet transmisi\\u00f3n\", \"actualiza\", \"actualiza tabla\", \"actualiza tabla anexo\", \"anexo\", \"anexo\", \"anexo resolucion\", \"aparatos\", \"aparatos telecomunicaciones\", \"aparatos telecomunicaciones descargar\", \"aprobaci\\u00f3n\", \"aprobaci\\u00f3n tipo\", \"aprobado\", \"aprobado\", \"aprobado\", \"aprobado directorio\", \"aprobado directorio\", \"aprobado directorio\", \"aprueba\", \"aprueba\", \"aprueba\", \"aprueba\", \"aprueba registro\", \"aprueba registro receptor\", \"aprueba registro receptores\", \"aprueban\", \"arancel\", \"arancel\", \"arancel uso\", \"arancel uso\", \"arancel uso espectro\", \"arancel uso espectro\", \"articulo\", \"articulo\", \"articulo\", \"articulo resolucion\", \"art\\u00edculos\", \"art\\u00edculos reglamento\", \"art\\u00edculos reglamento servicio\", \"asignacion\", \"asignacion frecuencias indicativos\", \"atribuci\\u00f3n\", \"atribuci\\u00f3n\", \"atribuci\\u00f3n frecuencias\", \"atribuci\\u00f3n frecuencias pnaf\", \"autoriza\", \"autoriza\", \"autoriza\", \"autoriza asignacion\", \"autoriza asignacion frecuencias\", \"autoriza firma\", \"autoriza firma telecel\", \"banda\", \"banda\", \"banda\", \"banda\", \"banda\", \"banda\", \"bandas\", \"cabledistribuci\\u00f3n\", \"calcoman\\u00eda\", \"calcoman\\u00eda aprobaci\\u00f3n\", \"calcoman\\u00eda aprobaci\\u00f3n tipo\", \"cargos\", \"celular\", \"celular\", \"celular\", \"celular stmc\", \"celular stmc pcs\", \"celulares\", \"cobertura\", \"comun\", \"comun mercosur\", \"comun mercosur gmc\", \"com\\u00fan\", \"conatel\", \"conatel\", \"conforme\", \"conforme establecido\", \"conforme establecido ley\", \"correspondiente\", \"correspondiente\", \"cumplimiento\", \"datos\", \"definen\", \"digital\", \"digital\", \"digital\", \"digital terrestre\", \"digital terrestre\", \"digital terrestre isdb\", \"digital terrestre marca\", \"directorio\", \"directorio\", \"directorio\", \"directorio\", \"directorio\", \"directorio\", \"directorio\", \"directorio aprueba\", \"directorio aprueba registro\", \"directorio descargar\", \"directorio descargar\", \"directorio fecha\", \"directorio fecha\", \"directorio fecha descargar\", \"emergencias\", \"enlaces\", \"equipos\", \"equipos\", \"equipos aparatos\", \"equipos aparatos telecomunicaciones\", \"espectro\", \"espectro\", \"espectro radioel\\u00e9ctrico\", \"espectro radioel\\u00e9ctrico\", \"establece\", \"establece\", \"establece\", \"establecido\", \"establecido ley\", \"establecido ley descargar\", \"estaciones\", \"estaciones\", \"estaciones\", \"estaciones\", \"estaciones radiobases\", \"estaciones radiobases servicio\", \"estaciones servicio\", \"estaciones servicio privado\", \"estudio\", \"estudio secundario\", \"est\\u00e1ndar\", \"est\\u00e1ndar televisi\\u00f3n\", \"est\\u00e1ndar televisi\\u00f3n digital\", \"fecha\", \"fecha\", \"fecha\", \"fecha abril\", \"fecha descargar\", \"firma\", \"firma\", \"firma telecel\", \"firma telecel\", \"firma telecel descargar\", \"firma telecel modificacion\", \"frecuencia conforme\", \"frecuencia conforme establecido\", \"frecuencias\", \"frecuencias\", \"frecuencias\", \"frecuencias pnaf\", \"frecuencias servicio\", \"frecuencias servicio radiodifusi\\u00f3n\", \"gmc\", \"gmc descargar\", \"gmc res\", \"grupo\", \"grupo mercado\", \"grupo mercado comun\", \"homologaci\\u00f3n\", \"homologaci\\u00f3n\", \"homologaci\\u00f3n aprobado\", \"incorpora\", \"incorpora ordenamiento\", \"incorpora ordenamiento juridico\", \"incorpora ordenamiento jur\\u00eddico\", \"indicativos\", \"indicativos llamada\", \"indicativos llamada estaciones\", \"internet\", \"internet transmisi\\u00f3n\", \"internet transmisi\\u00f3n datos\", \"isdb\", \"isdb tb\", \"juridico\", \"juridico nacional\", \"jur\\u00eddico\", \"jur\\u00eddico nacional\", \"jur\\u00eddico nacional grupo\", \"ley descargar\", \"licencias servicio radiodifusi\\u00f3n\", \"licitaci\\u00f3n\", \"licitaci\\u00f3n\", \"llamada\", \"llamada\", \"llamada estaciones\", \"llamada estaciones radiobases\", \"llamadas\", \"marca\", \"marca samsung\", \"marca samsung modelo\", \"marca tokyo\", \"marca tokyo modelo\", \"mensajes\", \"mercado\", \"mercado comun\", \"mercado comun mercosur\", \"mercosur\", \"mercosur gmc\", \"mercosur gmc res\", \"microondas\", \"microondas\", \"microondas\", \"microondas descargar\", \"microondas firma\", \"microondas firma telecel\", \"modelo\", \"modifica\", \"modifica\", \"modifica parcialmente\", \"modifica parcialmente reglamento\", \"modifica plan\", \"modificacion\", \"modificacion\", \"modificacion parametros\", \"modificacion parametros estaciones\", \"modifican\", \"modifican\", \"modifican\", \"modificar\", \"modulaci\\u00f3n frecuencia conforme\", \"movil celular\", \"m\\u00f3viles\", \"nacional\", \"nacional\", \"nacional\", \"nacional atribuci\\u00f3n\", \"nacional atribuci\\u00f3n frecuencias\", \"nacional grupo\", \"nota\", \"n\\u00ba\", \"operaciones\", \"operaciones socorro\", \"operaci\\u00f3n\", \"operaci\\u00f3n est\\u00e1ndar\", \"operaci\\u00f3n est\\u00e1ndar televisi\\u00f3n\", \"ordenamiento\", \"ordenamiento jur\\u00eddico\", \"ordenamiento jur\\u00eddico nacional\", \"otorgamiento\", \"otorgamiento licencias\", \"otorgamiento licencias servicio\", \"pago\", \"paraguay\", \"paraguay\", \"paraguay\", \"parametros\", \"parametros estaciones\", \"parametros estaciones servicio\", \"parcialmente\", \"parcialmente reglamento\", \"parcialmente reglamento homologaci\\u00f3n\", \"pcs\", \"pcs\", \"plan\", \"plan\", \"plan\", \"plan nacional\", \"plan nacional atribuci\\u00f3n\", \"planta\", \"planta transmisora\", \"pnaf\", \"prg\", \"prg plan\", \"prg plan nacional\", \"privado\", \"privado\", \"privado microondas\", \"privado microondas\", \"privado microondas descargar\", \"privado microondas firma\", \"protecci\\u00f3n\", \"protecci\\u00f3n usuario\", \"protecci\\u00f3n usuario telecomunicaciones\", \"p\\u00fablica\", \"p\\u00fablica\", \"p\\u00fablica operaciones\", \"p\\u00fablica operaciones socorro\", \"radiobases\", \"radiobases servicio\", \"radiobases servicio privado\", \"radiodifusi\\u00f3n\", \"radiodifusi\\u00f3n\", \"radiodifusi\\u00f3n sonora\", \"radiodifusi\\u00f3n sonora\", \"radioel\\u00e9ctrico\", \"radioel\\u00e9ctrico\", \"radioel\\u00e9ctrico\", \"rd\", \"rd\", \"rd\", \"rd\", \"rd\", \"rd\", \"rd\", \"rd actualiza\", \"rd actualiza tabla\", \"rd aprueba\", \"rd aprueba\", \"rd aprueba\", \"rd autoriza\", \"rd autoriza\", \"rd autoriza firma\", \"rd establece\", \"rd establece\", \"rd incorpora\", \"rd incorpora ordenamiento\", \"rd modifica\", \"rd modifica\", \"rd modifica parcialmente\", \"rd n\\u00ba\", \"rd resuelve\", \"rd resuelve modificar\", \"recepci\\u00f3n\", \"receptor\", \"receptor television\", \"receptor television digital\", \"receptores\", \"receptores televisi\\u00f3n\", \"receptores televisi\\u00f3n digital\", \"registro\", \"registro receptor\", \"registro receptor television\", \"registro receptores\", \"registro receptores televisi\\u00f3n\", \"reglamenta\", \"reglamento\", \"reglamento\", \"reglamento\", \"reglamento homologaci\\u00f3n\", \"reglamento homologaci\\u00f3n aprobado\", \"reglamento protecci\\u00f3n\", \"reglamento protecci\\u00f3n usuario\", \"reglamento servicio\", \"reglamento servicio televisi\\u00f3n\", \"res\", \"resolucion\", \"resolucion\", \"resolucion descargar\", \"resolucion directorio\", \"resolucion directorio\", \"resuelve\", \"resuelve modificar\", \"samsung\", \"samsung modelo\", \"satelital\", \"secundario\", \"seguridad\", \"seguridad p\\u00fablica\", \"servicio\", \"servicio\", \"servicio\", \"servicio\", \"servicio\", \"servicio\", \"servicio\", \"servicio cabledistribuci\\u00f3n\", \"servicio privado\", \"servicio privado\", \"servicio privado microondas\", \"servicio privado microondas\", \"servicio radiodifusi\\u00f3n\", \"servicio radiodifusi\\u00f3n\", \"servicio radiodifusi\\u00f3n sonora\", \"servicio radiodifusi\\u00f3n sonora\", \"servicio televisi\\u00f3n\", \"servicios\", \"servicios\", \"servicios telefon\\u00eda\", \"se\\u00f1al\", \"se\\u00f1ales\", \"sms\", \"sms rs\", \"socorro\", \"sonora\", \"sonora\", \"sonora\", \"stmc\", \"stmc pcs\", \"tabla\", \"tabla\", \"tabla anexo\", \"tabla anexo resolucion\", \"tb\", \"telecel\", \"telecel\", \"telecel descargar\", \"telecel modificacion\", \"telecel modificacion parametros\", \"telecomunicaciones\", \"telecomunicaciones descargar\", \"telefonia movil celular\", \"telefon\\u00eda\", \"telefon\\u00eda\", \"television\", \"television\", \"television digital\", \"television digital terrestre\", \"televisi\\u00f3n\", \"televisi\\u00f3n\", \"televisi\\u00f3n\", \"televisi\\u00f3n digital\", \"televisi\\u00f3n digital\", \"televisi\\u00f3n digital terrestre\", \"televisi\\u00f3n digital terrestre\", \"terrestre\", \"terrestre\", \"terrestre isdb\", \"terrestre isdb tb\", \"terrestre marca\", \"terrestre marca samsung\", \"terrestre marca tokyo\", \"texto\", \"texto\", \"texto sms\", \"texto sms rs\", \"titulares\", \"titulares licencia\", \"tokyo modelo\", \"topes\", \"topes cargos\", \"transmisi\\u00f3n\", \"transmisi\\u00f3n datos\", \"transmisora\", \"uso\", \"uso\", \"uso\", \"uso espectro\", \"uso espectro\", \"uso espectro radioel\\u00e9ctrico\", \"uso espectro radioel\\u00e9ctrico\", \"usuario\", \"usuario telecomunicaciones\", \"voz\", \"voz mensajes\"]}, \"R\": 30, \"lambda.step\": 0.01, \"plot.opts\": {\"xlab\": \"PC1\", \"ylab\": \"PC2\"}, \"topic.order\": [5, 2, 3, 4, 7, 8, 6, 1]};\n",
       "\n",
       "function LDAvis_load_lib(url, callback){\n",
       "  var s = document.createElement('script');\n",
       "  s.src = url;\n",
       "  s.async = true;\n",
       "  s.onreadystatechange = s.onload = callback;\n",
       "  s.onerror = function(){console.warn(\"failed to load library \" + url);};\n",
       "  document.getElementsByTagName(\"head\")[0].appendChild(s);\n",
       "}\n",
       "\n",
       "if(typeof(LDAvis) !== \"undefined\"){\n",
       "   // already loaded: just create the visualization\n",
       "   !function(LDAvis){\n",
       "       new LDAvis(\"#\" + \"ldavis_el151621202900918483239143871\", ldavis_el151621202900918483239143871_data);\n",
       "   }(LDAvis);\n",
       "}else if(typeof define === \"function\" && define.amd){\n",
       "   // require.js is available: use it to load d3/LDAvis\n",
       "   require.config({paths: {d3: \"https://cdnjs.cloudflare.com/ajax/libs/d3/3.5.5/d3.min\"}});\n",
       "   require([\"d3\"], function(d3){\n",
       "      window.d3 = d3;\n",
       "      LDAvis_load_lib(\"https://cdn.rawgit.com/bmabey/pyLDAvis/files/ldavis.v1.0.0.js\", function(){\n",
       "        new LDAvis(\"#\" + \"ldavis_el151621202900918483239143871\", ldavis_el151621202900918483239143871_data);\n",
       "      });\n",
       "    });\n",
       "}else{\n",
       "    // require.js not available: dynamically load d3 & LDAvis\n",
       "    LDAvis_load_lib(\"https://cdnjs.cloudflare.com/ajax/libs/d3/3.5.5/d3.min.js\", function(){\n",
       "         LDAvis_load_lib(\"https://cdn.rawgit.com/bmabey/pyLDAvis/files/ldavis.v1.0.0.js\", function(){\n",
       "                 new LDAvis(\"#\" + \"ldavis_el151621202900918483239143871\", ldavis_el151621202900918483239143871_data);\n",
       "            })\n",
       "         });\n",
       "}\n",
       "</script>"
      ],
      "text/plain": [
       "<IPython.core.display.HTML object>"
      ]
     },
     "execution_count": 23,
     "metadata": {},
     "output_type": "execute_result"
    }
   ],
   "source": [
    "pyLDAvis.display(LDAvis_prepared) # Lo visualizo dentro del notebook"
   ]
  },
  {
   "cell_type": "code",
   "execution_count": null,
   "metadata": {},
   "outputs": [],
   "source": []
  },
  {
   "cell_type": "code",
   "execution_count": null,
   "metadata": {},
   "outputs": [],
   "source": []
  }
 ],
 "metadata": {
  "kernelspec": {
   "display_name": "Python 3",
   "language": "python",
   "name": "python3"
  },
  "language_info": {
   "codemirror_mode": {
    "name": "ipython",
    "version": 3
   },
   "file_extension": ".py",
   "mimetype": "text/x-python",
   "name": "python",
   "nbconvert_exporter": "python",
   "pygments_lexer": "ipython3",
   "version": "3.7.4"
  }
 },
 "nbformat": 4,
 "nbformat_minor": 4
}
